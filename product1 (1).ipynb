{
  "cells": [
    {
      "cell_type": "code",
      "execution_count": 2,
      "metadata": {
        "id": "quyfT6n6ar9G"
      },
      "outputs": [],
      "source": [
        "import numpy as np\n",
        "import matplotlib.pyplot as plt\n",
        "import pandas as pd\n",
        "from sklearn.tree import DecisionTreeRegressor\n",
        "from sklearn.preprocessing import OneHotEncoder\n",
        "from sklearn.compose import make_column_transformer\n",
        "from sklearn.pipeline import make_pipeline\n",
        "from sklearn.metrics import r2_score\n",
        "from sklearn.linear_model import LinearRegression\n",
        "from sklearn.preprocessing import LabelEncoder\n",
        "from sklearn.model_selection import GridSearchCV"
      ]
    },
    {
      "cell_type": "code",
      "execution_count": 3,
      "metadata": {
        "id": "x1xyyswabzDo"
      },
      "outputs": [
        {
          "data": {
            "text/html": [
              "<div>\n",
              "<style scoped>\n",
              "    .dataframe tbody tr th:only-of-type {\n",
              "        vertical-align: middle;\n",
              "    }\n",
              "\n",
              "    .dataframe tbody tr th {\n",
              "        vertical-align: top;\n",
              "    }\n",
              "\n",
              "    .dataframe thead th {\n",
              "        text-align: right;\n",
              "    }\n",
              "</style>\n",
              "<table border=\"1\" class=\"dataframe\">\n",
              "  <thead>\n",
              "    <tr style=\"text-align: right;\">\n",
              "      <th></th>\n",
              "      <th>product</th>\n",
              "      <th>year</th>\n",
              "      <th>month</th>\n",
              "      <th>no. of new products bought</th>\n",
              "      <th>no of products left for selling</th>\n",
              "      <th>no. of products sold</th>\n",
              "      <th>prodects left</th>\n",
              "      <th>no of products to be bought</th>\n",
              "      <th>demand %</th>\n",
              "    </tr>\n",
              "  </thead>\n",
              "  <tbody>\n",
              "    <tr>\n",
              "      <th>0</th>\n",
              "      <td>colgate</td>\n",
              "      <td>2019</td>\n",
              "      <td>1</td>\n",
              "      <td>60</td>\n",
              "      <td>60</td>\n",
              "      <td>46</td>\n",
              "      <td>0</td>\n",
              "      <td>46.0</td>\n",
              "      <td>76.666667</td>\n",
              "    </tr>\n",
              "    <tr>\n",
              "      <th>1</th>\n",
              "      <td>colgate</td>\n",
              "      <td>2019</td>\n",
              "      <td>2</td>\n",
              "      <td>32</td>\n",
              "      <td>46</td>\n",
              "      <td>38</td>\n",
              "      <td>14</td>\n",
              "      <td>24.0</td>\n",
              "      <td>118.750000</td>\n",
              "    </tr>\n",
              "    <tr>\n",
              "      <th>2</th>\n",
              "      <td>colgate</td>\n",
              "      <td>2019</td>\n",
              "      <td>3</td>\n",
              "      <td>40</td>\n",
              "      <td>62</td>\n",
              "      <td>47</td>\n",
              "      <td>22</td>\n",
              "      <td>25.0</td>\n",
              "      <td>117.500000</td>\n",
              "    </tr>\n",
              "    <tr>\n",
              "      <th>3</th>\n",
              "      <td>colgate</td>\n",
              "      <td>2019</td>\n",
              "      <td>4</td>\n",
              "      <td>36</td>\n",
              "      <td>51</td>\n",
              "      <td>40</td>\n",
              "      <td>15</td>\n",
              "      <td>25.0</td>\n",
              "      <td>111.111111</td>\n",
              "    </tr>\n",
              "    <tr>\n",
              "      <th>4</th>\n",
              "      <td>colgate</td>\n",
              "      <td>2019</td>\n",
              "      <td>5</td>\n",
              "      <td>56</td>\n",
              "      <td>67</td>\n",
              "      <td>58</td>\n",
              "      <td>11</td>\n",
              "      <td>47.0</td>\n",
              "      <td>103.571429</td>\n",
              "    </tr>\n",
              "    <tr>\n",
              "      <th>5</th>\n",
              "      <td>colgate</td>\n",
              "      <td>2019</td>\n",
              "      <td>6</td>\n",
              "      <td>41</td>\n",
              "      <td>50</td>\n",
              "      <td>39</td>\n",
              "      <td>9</td>\n",
              "      <td>30.0</td>\n",
              "      <td>95.121951</td>\n",
              "    </tr>\n",
              "    <tr>\n",
              "      <th>6</th>\n",
              "      <td>colgate</td>\n",
              "      <td>2019</td>\n",
              "      <td>7</td>\n",
              "      <td>58</td>\n",
              "      <td>69</td>\n",
              "      <td>51</td>\n",
              "      <td>11</td>\n",
              "      <td>40.0</td>\n",
              "      <td>87.931034</td>\n",
              "    </tr>\n",
              "    <tr>\n",
              "      <th>7</th>\n",
              "      <td>colgate</td>\n",
              "      <td>2019</td>\n",
              "      <td>8</td>\n",
              "      <td>31</td>\n",
              "      <td>47</td>\n",
              "      <td>47</td>\n",
              "      <td>16</td>\n",
              "      <td>31.0</td>\n",
              "      <td>151.612903</td>\n",
              "    </tr>\n",
              "    <tr>\n",
              "      <th>8</th>\n",
              "      <td>colgate</td>\n",
              "      <td>2019</td>\n",
              "      <td>9</td>\n",
              "      <td>100</td>\n",
              "      <td>100</td>\n",
              "      <td>56</td>\n",
              "      <td>0</td>\n",
              "      <td>56.0</td>\n",
              "      <td>56.000000</td>\n",
              "    </tr>\n",
              "    <tr>\n",
              "      <th>9</th>\n",
              "      <td>colgate</td>\n",
              "      <td>2019</td>\n",
              "      <td>10</td>\n",
              "      <td>0</td>\n",
              "      <td>44</td>\n",
              "      <td>44</td>\n",
              "      <td>44</td>\n",
              "      <td>44.0</td>\n",
              "      <td>44.000000</td>\n",
              "    </tr>\n",
              "    <tr>\n",
              "      <th>10</th>\n",
              "      <td>colgate</td>\n",
              "      <td>2019</td>\n",
              "      <td>11</td>\n",
              "      <td>38</td>\n",
              "      <td>38</td>\n",
              "      <td>16</td>\n",
              "      <td>0</td>\n",
              "      <td>16.0</td>\n",
              "      <td>42.105263</td>\n",
              "    </tr>\n",
              "    <tr>\n",
              "      <th>11</th>\n",
              "      <td>colgate</td>\n",
              "      <td>2019</td>\n",
              "      <td>12</td>\n",
              "      <td>30</td>\n",
              "      <td>52</td>\n",
              "      <td>48</td>\n",
              "      <td>22</td>\n",
              "      <td>26.0</td>\n",
              "      <td>160.000000</td>\n",
              "    </tr>\n",
              "    <tr>\n",
              "      <th>12</th>\n",
              "      <td>colgate</td>\n",
              "      <td>2020</td>\n",
              "      <td>1</td>\n",
              "      <td>72</td>\n",
              "      <td>76</td>\n",
              "      <td>56</td>\n",
              "      <td>4</td>\n",
              "      <td>52.0</td>\n",
              "      <td>77.777778</td>\n",
              "    </tr>\n",
              "    <tr>\n",
              "      <th>13</th>\n",
              "      <td>colgate</td>\n",
              "      <td>2020</td>\n",
              "      <td>2</td>\n",
              "      <td>78</td>\n",
              "      <td>98</td>\n",
              "      <td>86</td>\n",
              "      <td>20</td>\n",
              "      <td>66.0</td>\n",
              "      <td>110.256410</td>\n",
              "    </tr>\n",
              "    <tr>\n",
              "      <th>14</th>\n",
              "      <td>colgate</td>\n",
              "      <td>2020</td>\n",
              "      <td>3</td>\n",
              "      <td>60</td>\n",
              "      <td>72</td>\n",
              "      <td>59</td>\n",
              "      <td>12</td>\n",
              "      <td>47.0</td>\n",
              "      <td>98.333333</td>\n",
              "    </tr>\n",
              "  </tbody>\n",
              "</table>\n",
              "</div>"
            ],
            "text/plain": [
              "    product  year  month  no. of new products bought    \\\n",
              "0   colgate  2019      1                            60   \n",
              "1   colgate  2019      2                            32   \n",
              "2   colgate  2019      3                            40   \n",
              "3   colgate  2019      4                            36   \n",
              "4   colgate  2019      5                            56   \n",
              "5   colgate  2019      6                            41   \n",
              "6   colgate  2019      7                            58   \n",
              "7   colgate  2019      8                            31   \n",
              "8   colgate  2019      9                           100   \n",
              "9   colgate  2019     10                             0   \n",
              "10  colgate  2019     11                            38   \n",
              "11  colgate  2019     12                            30   \n",
              "12  colgate  2020      1                            72   \n",
              "13  colgate  2020      2                            78   \n",
              "14  colgate  2020      3                            60   \n",
              "\n",
              "    no of products left for selling  no. of products sold  prodects left  \\\n",
              "0                                60                    46              0   \n",
              "1                                46                    38             14   \n",
              "2                                62                    47             22   \n",
              "3                                51                    40             15   \n",
              "4                                67                    58             11   \n",
              "5                                50                    39              9   \n",
              "6                                69                    51             11   \n",
              "7                                47                    47             16   \n",
              "8                               100                    56              0   \n",
              "9                                44                    44             44   \n",
              "10                               38                    16              0   \n",
              "11                               52                    48             22   \n",
              "12                               76                    56              4   \n",
              "13                               98                    86             20   \n",
              "14                               72                    59             12   \n",
              "\n",
              "    no of products to be bought    demand %  \n",
              "0                          46.0   76.666667  \n",
              "1                          24.0  118.750000  \n",
              "2                          25.0  117.500000  \n",
              "3                          25.0  111.111111  \n",
              "4                          47.0  103.571429  \n",
              "5                          30.0   95.121951  \n",
              "6                          40.0   87.931034  \n",
              "7                          31.0  151.612903  \n",
              "8                          56.0   56.000000  \n",
              "9                          44.0   44.000000  \n",
              "10                         16.0   42.105263  \n",
              "11                         26.0  160.000000  \n",
              "12                         52.0   77.777778  \n",
              "13                         66.0  110.256410  \n",
              "14                         47.0   98.333333  "
            ]
          },
          "execution_count": 3,
          "metadata": {},
          "output_type": "execute_result"
        }
      ],
      "source": [
        "data = pd.read_csv('prod_.csv')\n",
        "data.head(15)"
      ]
    },
    {
      "cell_type": "code",
      "execution_count": 4,
      "metadata": {
        "colab": {
          "base_uri": "https://localhost:8080/"
        },
        "id": "LoiUYBtyZxfw",
        "outputId": "31e0163f-2d7b-462d-834b-65e3fc6ff445"
      },
      "outputs": [
        {
          "data": {
            "text/plain": [
              "array(['colgate', 'gemini  tea powder', 'suger', 'freedom sunflower oil',\n",
              "       'life boy soap', 'santoor'], dtype=object)"
            ]
          },
          "execution_count": 4,
          "metadata": {},
          "output_type": "execute_result"
        }
      ],
      "source": [
        "data['product'].unique()"
      ]
    },
    {
      "cell_type": "code",
      "execution_count": 5,
      "metadata": {
        "id": "uin087ONcNHW"
      },
      "outputs": [],
      "source": [
        "ohe = OneHotEncoder()\n",
        "ohe.fit(data[['product']])\n",
        "ct=make_column_transformer((OneHotEncoder(),[0]),\n",
        "                                    remainder='passthrough')"
      ]
    },
    {
      "cell_type": "code",
      "execution_count": 6,
      "metadata": {
        "id": "xo_6ixhNWbpK"
      },
      "outputs": [],
      "source": [
        "x = data.iloc[:,[0,1,2]].values\n",
        "y = data.iloc[:, [5]].values"
      ]
    },
    {
      "cell_type": "code",
      "execution_count": 7,
      "metadata": {
        "id": "3-ov31wXIJup"
      },
      "outputs": [],
      "source": [
        "from sklearn.preprocessing import StandardScaler\n",
        "sc = StandardScaler()"
      ]
    },
    {
      "cell_type": "code",
      "execution_count": 8,
      "metadata": {},
      "outputs": [
        {
          "name": "stdout",
          "output_type": "stream",
          "text": [
            "[['colgate' 2019 1]\n",
            " ['colgate' 2019 2]\n",
            " ['colgate' 2019 3]\n",
            " ['colgate' 2019 4]\n",
            " ['colgate' 2019 5]\n",
            " ['colgate' 2019 6]\n",
            " ['colgate' 2019 7]\n",
            " ['colgate' 2019 8]\n",
            " ['colgate' 2019 9]\n",
            " ['colgate' 2019 10]\n",
            " ['colgate' 2019 11]\n",
            " ['colgate' 2019 12]\n",
            " ['colgate' 2020 1]\n",
            " ['colgate' 2020 2]\n",
            " ['colgate' 2020 3]\n",
            " ['colgate' 2020 4]\n",
            " ['colgate' 2020 5]\n",
            " ['colgate' 2020 6]\n",
            " ['colgate' 2020 7]\n",
            " ['colgate' 2020 8]\n",
            " ['colgate' 2020 9]\n",
            " ['colgate' 2020 10]\n",
            " ['colgate' 2020 11]\n",
            " ['colgate' 2020 12]\n",
            " ['colgate' 2021 1]\n",
            " ['colgate' 2021 2]\n",
            " ['colgate' 2021 3]\n",
            " ['colgate' 2021 4]\n",
            " ['colgate' 2021 5]\n",
            " ['colgate' 2021 6]\n",
            " ['colgate' 2021 7]\n",
            " ['colgate' 2021 8]\n",
            " ['colgate' 2021 9]\n",
            " ['colgate' 2021 10]\n",
            " ['colgate' 2021 11]\n",
            " ['colgate' 2021 12]\n",
            " ['gemini  tea powder' 2019 1]\n",
            " ['gemini  tea powder' 2019 2]\n",
            " ['gemini  tea powder' 2019 3]\n",
            " ['gemini  tea powder' 2019 4]\n",
            " ['gemini  tea powder' 2019 5]\n",
            " ['gemini  tea powder' 2019 6]\n",
            " ['gemini  tea powder' 2019 7]\n",
            " ['gemini  tea powder' 2019 8]\n",
            " ['gemini  tea powder' 2019 9]\n",
            " ['gemini  tea powder' 2019 10]\n",
            " ['gemini  tea powder' 2019 11]\n",
            " ['gemini  tea powder' 2019 12]\n",
            " ['gemini  tea powder' 2020 1]\n",
            " ['gemini  tea powder' 2020 2]\n",
            " ['gemini  tea powder' 2020 3]\n",
            " ['gemini  tea powder' 2020 4]\n",
            " ['gemini  tea powder' 2020 5]\n",
            " ['gemini  tea powder' 2020 6]\n",
            " ['gemini  tea powder' 2020 7]\n",
            " ['gemini  tea powder' 2020 8]\n",
            " ['gemini  tea powder' 2020 9]\n",
            " ['gemini  tea powder' 2020 10]\n",
            " ['gemini  tea powder' 2020 11]\n",
            " ['gemini  tea powder' 2020 12]\n",
            " ['gemini  tea powder' 2021 1]\n",
            " ['gemini  tea powder' 2021 2]\n",
            " ['gemini  tea powder' 2021 3]\n",
            " ['gemini  tea powder' 2021 4]\n",
            " ['gemini  tea powder' 2021 5]\n",
            " ['gemini  tea powder' 2021 6]\n",
            " ['gemini  tea powder' 2021 7]\n",
            " ['gemini  tea powder' 2021 8]\n",
            " ['gemini  tea powder' 2021 9]\n",
            " ['gemini  tea powder' 2021 10]\n",
            " ['gemini  tea powder' 2021 11]\n",
            " ['gemini  tea powder' 2021 12]\n",
            " ['gemini  tea powder' 2022 1]\n",
            " ['gemini  tea powder' 2022 2]\n",
            " ['gemini  tea powder' 2022 3]\n",
            " ['gemini  tea powder' 2022 4]\n",
            " ['gemini  tea powder' 2022 5]\n",
            " ['suger' 2019 1]\n",
            " ['suger' 2019 2]\n",
            " ['suger' 2019 3]\n",
            " ['suger' 2019 4]\n",
            " ['suger' 2019 5]\n",
            " ['suger' 2019 6]\n",
            " ['suger' 2019 7]\n",
            " ['suger' 2019 8]\n",
            " ['suger' 2019 9]\n",
            " ['suger' 2019 10]\n",
            " ['suger' 2019 11]\n",
            " ['suger' 2019 12]\n",
            " ['suger' 2020 1]\n",
            " ['suger' 2020 2]\n",
            " ['suger' 2020 3]\n",
            " ['suger' 2020 4]\n",
            " ['suger' 2020 5]\n",
            " ['suger' 2020 6]\n",
            " ['suger' 2020 7]\n",
            " ['suger' 2020 8]\n",
            " ['suger' 2020 9]\n",
            " ['suger' 2020 10]\n",
            " ['suger' 2020 11]\n",
            " ['suger' 2020 12]\n",
            " ['suger' 2021 1]\n",
            " ['suger' 2021 2]\n",
            " ['suger' 2021 3]\n",
            " ['suger' 2021 4]\n",
            " ['suger' 2021 5]\n",
            " ['suger' 2021 6]\n",
            " ['suger' 2021 7]\n",
            " ['suger' 2021 8]\n",
            " ['suger' 2021 9]\n",
            " ['suger' 2021 10]\n",
            " ['suger' 2021 11]\n",
            " ['suger' 2021 12]\n",
            " ['suger' 2022 1]\n",
            " ['suger' 2022 2]\n",
            " ['suger' 2022 3]\n",
            " ['suger' 2022 4]\n",
            " ['suger' 2022 5]\n",
            " ['freedom sunflower oil' 2019 1]\n",
            " ['freedom sunflower oil' 2019 2]\n",
            " ['freedom sunflower oil' 2019 3]\n",
            " ['freedom sunflower oil' 2019 4]\n",
            " ['freedom sunflower oil' 2019 5]\n",
            " ['freedom sunflower oil' 2019 6]\n",
            " ['freedom sunflower oil' 2019 7]\n",
            " ['freedom sunflower oil' 2019 8]\n",
            " ['freedom sunflower oil' 2019 9]\n",
            " ['freedom sunflower oil' 2019 10]\n",
            " ['freedom sunflower oil' 2019 11]\n",
            " ['freedom sunflower oil' 2019 12]\n",
            " ['freedom sunflower oil' 2020 1]\n",
            " ['freedom sunflower oil' 2020 2]\n",
            " ['freedom sunflower oil' 2020 3]\n",
            " ['freedom sunflower oil' 2020 4]\n",
            " ['freedom sunflower oil' 2020 5]\n",
            " ['freedom sunflower oil' 2020 6]\n",
            " ['freedom sunflower oil' 2020 7]\n",
            " ['freedom sunflower oil' 2020 8]\n",
            " ['freedom sunflower oil' 2020 9]\n",
            " ['freedom sunflower oil' 2020 10]\n",
            " ['freedom sunflower oil' 2020 11]\n",
            " ['freedom sunflower oil' 2020 12]\n",
            " ['freedom sunflower oil' 2021 1]\n",
            " ['freedom sunflower oil' 2021 2]\n",
            " ['freedom sunflower oil' 2021 3]\n",
            " ['freedom sunflower oil' 2021 4]\n",
            " ['freedom sunflower oil' 2021 5]\n",
            " ['freedom sunflower oil' 2021 6]\n",
            " ['freedom sunflower oil' 2021 7]\n",
            " ['freedom sunflower oil' 2021 8]\n",
            " ['freedom sunflower oil' 2021 9]\n",
            " ['freedom sunflower oil' 2021 10]\n",
            " ['freedom sunflower oil' 2021 11]\n",
            " ['freedom sunflower oil' 2021 12]\n",
            " ['freedom sunflower oil' 2022 1]\n",
            " ['freedom sunflower oil' 2022 2]\n",
            " ['freedom sunflower oil' 2022 3]\n",
            " ['freedom sunflower oil' 2022 4]\n",
            " ['freedom sunflower oil' 2022 5]\n",
            " ['life boy soap' 2019 1]\n",
            " ['life boy soap' 2019 2]\n",
            " ['life boy soap' 2019 3]\n",
            " ['life boy soap' 2019 4]\n",
            " ['life boy soap' 2019 5]\n",
            " ['life boy soap' 2019 6]\n",
            " ['life boy soap' 2019 7]\n",
            " ['life boy soap' 2019 8]\n",
            " ['life boy soap' 2019 9]\n",
            " ['life boy soap' 2019 10]\n",
            " ['life boy soap' 2019 11]\n",
            " ['life boy soap' 2019 12]\n",
            " ['life boy soap' 2020 1]\n",
            " ['life boy soap' 2020 2]\n",
            " ['life boy soap' 2020 3]\n",
            " ['life boy soap' 2020 4]\n",
            " ['life boy soap' 2020 5]\n",
            " ['life boy soap' 2020 6]\n",
            " ['life boy soap' 2020 7]\n",
            " ['life boy soap' 2020 8]\n",
            " ['life boy soap' 2020 9]\n",
            " ['life boy soap' 2020 10]\n",
            " ['life boy soap' 2020 11]\n",
            " ['life boy soap' 2020 12]\n",
            " ['life boy soap' 2021 1]\n",
            " ['life boy soap' 2021 2]\n",
            " ['life boy soap' 2021 3]\n",
            " ['life boy soap' 2021 4]\n",
            " ['life boy soap' 2021 5]\n",
            " ['life boy soap' 2021 6]\n",
            " ['life boy soap' 2021 7]\n",
            " ['life boy soap' 2021 8]\n",
            " ['life boy soap' 2021 9]\n",
            " ['life boy soap' 2021 10]\n",
            " ['life boy soap' 2021 11]\n",
            " ['life boy soap' 2021 12]\n",
            " ['life boy soap' 2022 1]\n",
            " ['life boy soap' 2022 2]\n",
            " ['life boy soap' 2022 3]\n",
            " ['life boy soap' 2022 4]\n",
            " ['life boy soap' 2022 5]\n",
            " ['santoor' 2019 1]\n",
            " ['santoor' 2019 2]\n",
            " ['santoor' 2019 3]\n",
            " ['santoor' 2019 4]\n",
            " ['santoor' 2019 5]\n",
            " ['santoor' 2019 6]\n",
            " ['santoor' 2019 7]\n",
            " ['santoor' 2019 8]\n",
            " ['santoor' 2019 9]\n",
            " ['santoor' 2019 10]\n",
            " ['santoor' 2019 11]\n",
            " ['santoor' 2019 12]\n",
            " ['santoor' 2020 1]\n",
            " ['santoor' 2020 2]\n",
            " ['santoor' 2020 3]\n",
            " ['santoor' 2020 4]\n",
            " ['santoor' 2020 5]\n",
            " ['santoor' 2020 6]\n",
            " ['santoor' 2020 7]\n",
            " ['santoor' 2020 8]\n",
            " ['santoor' 2020 9]\n",
            " ['santoor' 2020 10]\n",
            " ['santoor' 2020 11]\n",
            " ['santoor' 2020 12]]\n"
          ]
        }
      ],
      "source": [
        "print(x)"
      ]
    },
    {
      "cell_type": "code",
      "execution_count": 9,
      "metadata": {
        "id": "CXvJXOPhc34E"
      },
      "outputs": [],
      "source": [
        "from sklearn.model_selection import train_test_split\n",
        "x_train, x_test, y_train, y_test = train_test_split(x, y, test_size = 0.3, random_state = 0)"
      ]
    },
    {
      "cell_type": "code",
      "execution_count": 10,
      "metadata": {
        "id": "1GChiDgvbnel"
      },
      "outputs": [
        {
          "data": {
            "text/plain": [
              "array([['life boy soap', 2019, 8],\n",
              "       ['gemini  tea powder', 2019, 5],\n",
              "       ['colgate', 2020, 2],\n",
              "       ['freedom sunflower oil', 2019, 5],\n",
              "       ['suger', 2020, 1],\n",
              "       ['colgate', 2021, 1],\n",
              "       ['colgate', 2021, 7],\n",
              "       ['gemini  tea powder', 2021, 1],\n",
              "       ['gemini  tea powder', 2020, 9],\n",
              "       ['life boy soap', 2019, 3],\n",
              "       ['suger', 2021, 1],\n",
              "       ['colgate', 2020, 8],\n",
              "       ['life boy soap', 2019, 10],\n",
              "       ['life boy soap', 2020, 6],\n",
              "       ['gemini  tea powder', 2020, 7],\n",
              "       ['life boy soap', 2020, 10],\n",
              "       ['suger', 2019, 4],\n",
              "       ['gemini  tea powder', 2020, 4],\n",
              "       ['suger', 2021, 8],\n",
              "       ['freedom sunflower oil', 2022, 1],\n",
              "       ['freedom sunflower oil', 2019, 1],\n",
              "       ['suger', 2019, 10],\n",
              "       ['life boy soap', 2020, 8],\n",
              "       ['freedom sunflower oil', 2019, 9],\n",
              "       ['life boy soap', 2019, 1],\n",
              "       ['suger', 2021, 11],\n",
              "       ['gemini  tea powder', 2019, 6],\n",
              "       ['colgate', 2020, 3],\n",
              "       ['colgate', 2021, 4],\n",
              "       ['freedom sunflower oil', 2020, 12],\n",
              "       ['santoor', 2019, 3],\n",
              "       ['colgate', 2020, 9],\n",
              "       ['freedom sunflower oil', 2021, 8],\n",
              "       ['gemini  tea powder', 2019, 11],\n",
              "       ['freedom sunflower oil', 2021, 12],\n",
              "       ['santoor', 2020, 8],\n",
              "       ['freedom sunflower oil', 2020, 1],\n",
              "       ['freedom sunflower oil', 2022, 4],\n",
              "       ['gemini  tea powder', 2021, 3],\n",
              "       ['freedom sunflower oil', 2021, 5],\n",
              "       ['colgate', 2019, 3],\n",
              "       ['gemini  tea powder', 2020, 12],\n",
              "       ['freedom sunflower oil', 2020, 8],\n",
              "       ['santoor', 2019, 9],\n",
              "       ['gemini  tea powder', 2019, 8],\n",
              "       ['colgate', 2019, 11],\n",
              "       ['freedom sunflower oil', 2019, 12],\n",
              "       ['gemini  tea powder', 2022, 2],\n",
              "       ['santoor', 2020, 3],\n",
              "       ['santoor', 2020, 6],\n",
              "       ['suger', 2021, 12],\n",
              "       ['life boy soap', 2022, 5],\n",
              "       ['life boy soap', 2021, 7],\n",
              "       ['suger', 2020, 10],\n",
              "       ['colgate', 2019, 4],\n",
              "       ['suger', 2020, 5],\n",
              "       ['freedom sunflower oil', 2020, 5],\n",
              "       ['santoor', 2019, 5],\n",
              "       ['santoor', 2020, 2],\n",
              "       ['gemini  tea powder', 2020, 3],\n",
              "       ['suger', 2022, 1],\n",
              "       ['colgate', 2019, 1],\n",
              "       ['suger', 2020, 6],\n",
              "       ['suger', 2020, 7],\n",
              "       ['gemini  tea powder', 2021, 10],\n",
              "       ['gemini  tea powder', 2020, 2],\n",
              "       ['gemini  tea powder', 2020, 1],\n",
              "       ['suger', 2019, 9],\n",
              "       ['santoor', 2020, 10],\n",
              "       ['colgate', 2020, 12],\n",
              "       ['suger', 2019, 2],\n",
              "       ['suger', 2020, 12],\n",
              "       ['freedom sunflower oil', 2020, 2],\n",
              "       ['life boy soap', 2020, 11],\n",
              "       ['santoor', 2020, 11],\n",
              "       ['colgate', 2019, 7],\n",
              "       ['gemini  tea powder', 2021, 9],\n",
              "       ['suger', 2019, 8],\n",
              "       ['freedom sunflower oil', 2019, 4],\n",
              "       ['santoor', 2019, 10],\n",
              "       ['life boy soap', 2019, 12],\n",
              "       ['life boy soap', 2021, 8],\n",
              "       ['life boy soap', 2021, 3],\n",
              "       ['santoor', 2020, 12],\n",
              "       ['suger', 2020, 3],\n",
              "       ['life boy soap', 2021, 9],\n",
              "       ['colgate', 2019, 12],\n",
              "       ['freedom sunflower oil', 2019, 2],\n",
              "       ['suger', 2021, 2],\n",
              "       ['colgate', 2021, 12],\n",
              "       ['gemini  tea powder', 2020, 10],\n",
              "       ['gemini  tea powder', 2021, 6],\n",
              "       ['colgate', 2019, 2],\n",
              "       ['freedom sunflower oil', 2019, 3],\n",
              "       ['life boy soap', 2020, 9],\n",
              "       ['gemini  tea powder', 2019, 7],\n",
              "       ['suger', 2021, 5],\n",
              "       ['freedom sunflower oil', 2020, 3],\n",
              "       ['life boy soap', 2021, 12],\n",
              "       ['colgate', 2020, 6],\n",
              "       ['gemini  tea powder', 2019, 3],\n",
              "       ['freedom sunflower oil', 2020, 4],\n",
              "       ['gemini  tea powder', 2020, 6],\n",
              "       ['life boy soap', 2019, 6],\n",
              "       ['life boy soap', 2020, 3],\n",
              "       ['freedom sunflower oil', 2019, 11],\n",
              "       ['colgate', 2021, 11],\n",
              "       ['colgate', 2021, 5],\n",
              "       ['suger', 2022, 2],\n",
              "       ['life boy soap', 2019, 5],\n",
              "       ['freedom sunflower oil', 2021, 10],\n",
              "       ['colgate', 2021, 8],\n",
              "       ['life boy soap', 2021, 1],\n",
              "       ['freedom sunflower oil', 2019, 10],\n",
              "       ['life boy soap', 2022, 3],\n",
              "       ['colgate', 2021, 9],\n",
              "       ['life boy soap', 2019, 9],\n",
              "       ['freedom sunflower oil', 2021, 1],\n",
              "       ['life boy soap', 2021, 5],\n",
              "       ['freedom sunflower oil', 2021, 6],\n",
              "       ['colgate', 2021, 6],\n",
              "       ['life boy soap', 2020, 7],\n",
              "       ['suger', 2020, 11],\n",
              "       ['suger', 2019, 6],\n",
              "       ['santoor', 2020, 9],\n",
              "       ['life boy soap', 2020, 5],\n",
              "       ['suger', 2019, 3],\n",
              "       ['suger', 2022, 3],\n",
              "       ['freedom sunflower oil', 2021, 7],\n",
              "       ['santoor', 2020, 5],\n",
              "       ['gemini  tea powder', 2022, 1],\n",
              "       ['suger', 2019, 1],\n",
              "       ['colgate', 2021, 2],\n",
              "       ['life boy soap', 2019, 7],\n",
              "       ['suger', 2019, 5],\n",
              "       ['santoor', 2019, 11],\n",
              "       ['life boy soap', 2020, 4],\n",
              "       ['santoor', 2020, 1],\n",
              "       ['gemini  tea powder', 2019, 4],\n",
              "       ['life boy soap', 2021, 11],\n",
              "       ['gemini  tea powder', 2020, 11],\n",
              "       ['freedom sunflower oil', 2020, 11],\n",
              "       ['suger', 2019, 12],\n",
              "       ['gemini  tea powder', 2021, 11],\n",
              "       ['suger', 2019, 11],\n",
              "       ['gemini  tea powder', 2019, 1],\n",
              "       ['colgate', 2020, 10],\n",
              "       ['santoor', 2019, 12],\n",
              "       ['colgate', 2019, 10],\n",
              "       ['suger', 2021, 3],\n",
              "       ['life boy soap', 2022, 1],\n",
              "       ['gemini  tea powder', 2021, 8],\n",
              "       ['life boy soap', 2021, 10],\n",
              "       ['suger', 2022, 5],\n",
              "       ['gemini  tea powder', 2019, 12],\n",
              "       ['life boy soap', 2020, 2]], dtype=object)"
            ]
          },
          "execution_count": 10,
          "metadata": {},
          "output_type": "execute_result"
        }
      ],
      "source": [
        "x_train"
      ]
    },
    {
      "cell_type": "code",
      "execution_count": 11,
      "metadata": {
        "id": "36Kgz_vDs7aw"
      },
      "outputs": [],
      "source": [
        "import warnings\n",
        "warnings.simplefilter(action='ignore', category=FutureWarning)\n",
        "warnings.simplefilter(action='ignore', category=UserWarning)"
      ]
    },
    {
      "cell_type": "code",
      "execution_count": 12,
      "metadata": {
        "id": "cdamkf68diQh"
      },
      "outputs": [],
      "source": [
        "lr = LinearRegression()"
      ]
    },
    {
      "cell_type": "code",
      "execution_count": 13,
      "metadata": {
        "colab": {
          "base_uri": "https://localhost:8080/"
        },
        "id": "_DRwxBYRmMgx",
        "outputId": "d6887d85-55ce-4cdb-a5a7-885f7052ee24"
      },
      "outputs": [
        {
          "data": {
            "text/plain": [
              "Pipeline(steps=[('columntransformer',\n",
              "                 ColumnTransformer(remainder='passthrough',\n",
              "                                   transformers=[('onehotencoder',\n",
              "                                                  OneHotEncoder(), [0])])),\n",
              "                ('linearregression', LinearRegression())])"
            ]
          },
          "execution_count": 13,
          "metadata": {},
          "output_type": "execute_result"
        }
      ],
      "source": [
        "from pandas.core.algorithms import mode\n",
        "from sklearn import pipeline\n",
        "pipe=make_pipeline(ct,lr)\n",
        "pipe.fit(x_train,y_train)"
      ]
    },
    {
      "cell_type": "code",
      "execution_count": 14,
      "metadata": {
        "colab": {
          "base_uri": "https://localhost:8080/"
        },
        "id": "lpq0AJ5FpGEx",
        "outputId": "5e06eaaf-e627-4f0f-ad15-e33f7ec93de2"
      },
      "outputs": [
        {
          "data": {
            "text/plain": [
              "0.9052419107148001"
            ]
          },
          "execution_count": 14,
          "metadata": {},
          "output_type": "execute_result"
        }
      ],
      "source": [
        "y_pred= pipe.predict(x_test)\n",
        "score = r2_score(y_pred,y_test)\n",
        "score"
      ]
    },
    {
      "cell_type": "code",
      "execution_count": 15,
      "metadata": {
        "colab": {
          "base_uri": "https://localhost:8080/"
        },
        "id": "KoG4V6fUpoQf",
        "outputId": "0dc9844b-c88a-455d-8807-ca2b9d197025"
      },
      "outputs": [
        {
          "data": {
            "text/plain": [
              "0.9855205302905855"
            ]
          },
          "execution_count": 15,
          "metadata": {},
          "output_type": "execute_result"
        }
      ],
      "source": [
        "scores=[]\n",
        "for i in range(1000):\n",
        "    x_train,x_test,y_train,y_test=train_test_split(x,y,test_size=0.1,random_state=i)\n",
        "    dt = LinearRegression()\n",
        "    piped=make_pipeline(ct,dt)\n",
        "    piped.fit(x_train,y_train)\n",
        "    y_pred=piped.predict(x_test)\n",
        "    scores.append(r2_score(y_test,y_pred))\n",
        "scores[np.argmax(scores)]"
      ]
    },
    {
      "cell_type": "code",
      "execution_count": 16,
      "metadata": {
        "colab": {
          "base_uri": "https://localhost:8080/"
        },
        "id": "xnOk70O6qHSJ",
        "outputId": "5ccdd481-35b0-4c22-fc15-76378986e331"
      },
      "outputs": [
        {
          "data": {
            "text/plain": [
              "array([[153.92103069]])"
            ]
          },
          "execution_count": 16,
          "metadata": {},
          "output_type": "execute_result"
        }
      ],
      "source": [
        "pipe.predict([['santoor',2021,3]])"
      ]
    },
    {
      "cell_type": "code",
      "execution_count": 17,
      "metadata": {
        "id": "FeUKn0zV04u6"
      },
      "outputs": [],
      "source": [
        "c=[]\n",
        "for i in range(0,12):\n",
        "  c.append(float(pipe.predict([['colgate',2023,i]])))"
      ]
    },
    {
      "cell_type": "code",
      "execution_count": 18,
      "metadata": {
        "colab": {
          "base_uri": "https://localhost:8080/"
        },
        "id": "qMplI0LNrJno",
        "outputId": "811f216a-63d5-41f9-c108-d560651b19bc"
      },
      "outputs": [
        {
          "data": {
            "text/plain": [
              "[130.1850150872051,\n",
              " 130.42168492095516,\n",
              " 130.65835475469794,\n",
              " 130.895024588448,\n",
              " 131.13169442219078,\n",
              " 131.36836425594083,\n",
              " 131.6050340896909,\n",
              " 131.84170392343367,\n",
              " 132.07837375718373,\n",
              " 132.31504359093378,\n",
              " 132.55171342467656,\n",
              " 132.78838325842662]"
            ]
          },
          "execution_count": 18,
          "metadata": {},
          "output_type": "execute_result"
        }
      ],
      "source": [
        "c"
      ]
    },
    {
      "cell_type": "code",
      "execution_count": 19,
      "metadata": {
        "colab": {
          "base_uri": "https://localhost:8080/",
          "height": 265
        },
        "id": "tXok7a51q6vG",
        "outputId": "c17c4970-bec4-4d8d-b31d-c902a467156a"
      },
      "outputs": [
        {
          "data": {
            "image/png": "[encoded data removed]",
            "text/plain": [
              "<Figure size 432x288 with 1 Axes>"
            ]
          },
          "metadata": {
            "needs_background": "light"
          },
          "output_type": "display_data"
        }
      ],
      "source": [
        "month=data.iloc[:12,[2]].values\n",
        "plt.plot(month,c)\n",
        "plt.show()"
      ]
    },
    {
      "cell_type": "code",
      "execution_count": 20,
      "metadata": {
        "id": "elL-ZaYo-c9s"
      },
      "outputs": [],
      "source": [
        "warnings.simplefilter(action='ignore', category=UserWarning)"
      ]
    },
    {
      "cell_type": "markdown",
      "metadata": {
        "id": "SoDqgQ0G7X0N"
      },
      "source": [
        "# dt"
      ]
    },
    {
      "cell_type": "code",
      "execution_count": 21,
      "metadata": {
        "colab": {
          "base_uri": "https://localhost:8080/"
        },
        "id": "To02FPhG1pa-",
        "outputId": "6143c87e-cb6b-4304-cb03-cef60b7f63cb"
      },
      "outputs": [
        {
          "data": {
            "text/plain": [
              "0.8615531417887847"
            ]
          },
          "execution_count": 21,
          "metadata": {},
          "output_type": "execute_result"
        }
      ],
      "source": [
        "from sklearn.tree import DecisionTreeRegressor\n",
        "from sklearn.metrics import fbeta_score, make_scorer\n",
        "dt = DecisionTreeRegressor()\n",
        "parameters = {'max_depth':(1,2,3,4,5,6,7,8,9,10)}\n",
        "scoring_function = make_scorer(fbeta_score, beta=2)\n",
        "dtg = GridSearchCV(dt, param_grid=parameters, scoring=scoring_function)\n",
        "piped = make_pipeline(ct,sc,dtg)\n",
        "piped.fit(x_train,y_train)\n",
        "y_pred=piped.predict(x_test)\n",
        "r2_score(y_test,y_pred)"
      ]
    },
    {
      "cell_type": "code",
      "execution_count": 22,
      "metadata": {
        "id": "OwOZhN4xtHov"
      },
      "outputs": [],
      "source": [
        "c_=[]\n",
        "for i in range(0,12):\n",
        "    c_.append(float(piped.predict([['colgate',2022,i]])))"
      ]
    },
    {
      "cell_type": "code",
      "execution_count": 23,
      "metadata": {
        "colab": {
          "base_uri": "https://localhost:8080/"
        },
        "id": "A9-OJNWutMww",
        "outputId": "7abc3a57-2e32-4510-a928-22320a9ed9c7"
      },
      "outputs": [
        {
          "data": {
            "text/plain": [
              "[67.81818181818181,\n",
              " 67.81818181818181,\n",
              " 67.81818181818181,\n",
              " 67.81818181818181,\n",
              " 67.81818181818181,\n",
              " 67.81818181818181,\n",
              " 67.81818181818181,\n",
              " 67.81818181818181,\n",
              " 67.81818181818181,\n",
              " 67.81818181818181,\n",
              " 67.81818181818181,\n",
              " 67.81818181818181]"
            ]
          },
          "execution_count": 23,
          "metadata": {},
          "output_type": "execute_result"
        }
      ],
      "source": [
        "c_"
      ]
    },
    {
      "cell_type": "code",
      "execution_count": 24,
      "metadata": {
        "colab": {
          "base_uri": "https://localhost:8080/",
          "height": 265
        },
        "id": "EuKNp6VxtBNC",
        "outputId": "7b345b44-843f-4260-b244-80f1b60236ad"
      },
      "outputs": [
        {
          "data": {
            "image/png": "[encoded data removed]",
            "text/plain": [
              "<Figure size 432x288 with 1 Axes>"
            ]
          },
          "metadata": {
            "needs_background": "light"
          },
          "output_type": "display_data"
        }
      ],
      "source": [
        "month=data.iloc[:12,[2]].values\n",
        "plt.plot(month,c_)\n",
        "plt.show()"
      ]
    },
    {
      "cell_type": "markdown",
      "metadata": {
        "id": "3AWvXWcbBwsu"
      },
      "source": [
        "# rf"
      ]
    },
    {
      "cell_type": "code",
      "execution_count": 25,
      "metadata": {
        "colab": {
          "base_uri": "https://localhost:8080/"
        },
        "id": "G1CSqpxb_bid",
        "outputId": "7378c6f7-83e3-47bb-cb2e-3f10d7a687c1"
      },
      "outputs": [
        {
          "data": {
            "text/plain": [
              "0.9204993654377213"
            ]
          },
          "execution_count": 25,
          "metadata": {},
          "output_type": "execute_result"
        }
      ],
      "source": [
        "from sklearn.ensemble import RandomForestRegressor\n",
        "estimator = RandomForestRegressor()\n",
        "\n",
        "piper = make_pipeline(ct,estimator)\n",
        "piper.fit(x_train, y_train)\n",
        "y_pred= piper.predict(x_test)\n",
        "r2_score(y_test, y_pred)"
      ]
    },
    {
      "cell_type": "code",
      "execution_count": 26,
      "metadata": {},
      "outputs": [
        {
          "data": {
            "text/plain": [
              "array([406.])"
            ]
          },
          "execution_count": 26,
          "metadata": {},
          "output_type": "execute_result"
        }
      ],
      "source": [
        "piper.predict([['suger',2023,1]])"
      ]
    },
    {
      "cell_type": "code",
      "execution_count": 27,
      "metadata": {
        "id": "uosZibJpuAmw"
      },
      "outputs": [],
      "source": [
        "k=data['product'].unique()\n",
        "colgate1=[]\n",
        "for j in range(1,13):\n",
        "    colgate1.append(float(piper.predict([['colgate',2022,j]])))"
      ]
    },
    {
      "cell_type": "code",
      "execution_count": 28,
      "metadata": {
        "colab": {
          "base_uri": "https://localhost:8080/"
        },
        "id": "iH5jfhCHKkY0",
        "outputId": "ddee3f85-dc93-47d7-d4cd-dca53a7ec91f"
      },
      "outputs": [
        {
          "data": {
            "text/plain": [
              "array(['colgate', 'gemini  tea powder', 'suger', 'freedom sunflower oil',\n",
              "       'life boy soap', 'santoor'], dtype=object)"
            ]
          },
          "execution_count": 28,
          "metadata": {},
          "output_type": "execute_result"
        }
      ],
      "source": [
        "k"
      ]
    },
    {
      "cell_type": "code",
      "execution_count": 29,
      "metadata": {
        "id": "biREQmditgxv"
      },
      "outputs": [],
      "source": [
        "p1=[]\n",
        "p2=[]\n",
        "p3=[]\n",
        "p4=[]\n",
        "p5=[]\n",
        "p6=[]\n",
        "for i in range(0,6):\n",
        "  for j in range(1,13):\n",
        "    if i==0:\n",
        "      p1.append(float(piper.predict([[k[i],2022,j]])))\n",
        "    if i==1:\n",
        "      p2.append(float(piper.predict([[k[i],2022,j]])))\n",
        "    if i==2:\n",
        "      p3.append(float(piper.predict([[k[i],2022,j]])))\n",
        "    if i==3:\n",
        "      p4.append(float(piper.predict([[k[i],2022,j]])))\n",
        "    if i==4:\n",
        "      p5.append(float(piper.predict([[k[i],2022,j]])))\n",
        "    if i==5:\n",
        "      p6.append(float(piper.predict([[k[i],2022,j]])))\n",
        "    \n"
      ]
    },
    {
      "cell_type": "code",
      "execution_count": 30,
      "metadata": {
        "colab": {
          "base_uri": "https://localhost:8080/"
        },
        "id": "TIylIBBixiuC",
        "outputId": "fa966242-0398-4700-db52-153d550feed3"
      },
      "outputs": [
        {
          "data": {
            "text/plain": [
              "[41.06,\n",
              " 43.16,\n",
              " 46.87,\n",
              " 39.98,\n",
              " 35.38,\n",
              " 37.45,\n",
              " 38.26,\n",
              " 39.02,\n",
              " 37.87,\n",
              " 37.55,\n",
              " 37.25,\n",
              " 38.1]"
            ]
          },
          "execution_count": 30,
          "metadata": {},
          "output_type": "execute_result"
        }
      ],
      "source": [
        "p2"
      ]
    },
    {
      "cell_type": "code",
      "execution_count": 31,
      "metadata": {
        "colab": {
          "base_uri": "https://localhost:8080/",
          "height": 295
        },
        "id": "RaIpUBBwt0GV",
        "outputId": "233a4b03-4e11-4286-9f2a-fc3a55961164"
      },
      "outputs": [
        {
          "data": {
            "image/png": "[encoded data removed]",
            "text/plain": [
              "<Figure size 432x288 with 1 Axes>"
            ]
          },
          "metadata": {
            "needs_background": "light"
          },
          "output_type": "display_data"
        }
      ],
      "source": [
        "month=data.iloc[:12,[2]].values\n",
        "plt.plot(month,p1,c='red',label='p1')\n",
        "plt.plot(month,p2,c='green',label='p2')\n",
        "plt.plot(month,p3,c='blue',label='p3')\n",
        "plt.plot(month,p4,c='magenta',label='p4')\n",
        "plt.plot(month,p5,c='cyan',label='p5')\n",
        "plt.plot(month,p6,c='black',label='p6')\n",
        "plt.title('month va sold products')\n",
        "plt.xlabel('month')\n",
        "plt.ylabel('products')\n",
        "plt.legend()\n",
        "plt.show()"
      ]
    },
    {
      "cell_type": "code",
      "execution_count": 32,
      "metadata": {
        "colab": {
          "base_uri": "https://localhost:8080/",
          "height": 266
        },
        "id": "4njQ3tdoLZ0c",
        "outputId": "e1337042-0293-467a-f0f5-b9c6e07ade11"
      },
      "outputs": [
        {
          "data": {
            "image/png": "[encoded data removed]",
            "text/plain": [
              "<Figure size 432x288 with 1 Axes>"
            ]
          },
          "metadata": {
            "needs_background": "light"
          },
          "output_type": "display_data"
        }
      ],
      "source": [
        "month=data.iloc[:12,[2]].values\n",
        "plt.plot(month,colgate1,c='red',label='p1')\n",
        "plt.show()"
      ]
    },
    {
      "cell_type": "code",
      "execution_count": 33,
      "metadata": {
        "colab": {
          "base_uri": "https://localhost:8080/"
        },
        "id": "WW0RMOAQaumf",
        "outputId": "171021f7-b97e-43b1-cfc2-160e2ed89aa3"
      },
      "outputs": [
        {
          "data": {
            "text/plain": [
              "array(['colgate', 'gemini  tea powder', 'suger', 'freedom sunflower oil',\n",
              "       'life boy soap', 'santoor'], dtype=object)"
            ]
          },
          "execution_count": 33,
          "metadata": {},
          "output_type": "execute_result"
        }
      ],
      "source": [
        "k"
      ]
    },
    {
      "cell_type": "code",
      "execution_count": 34,
      "metadata": {
        "id": "j4LbJeP-sdYW"
      },
      "outputs": [],
      "source": [
        "m=0\n",
        "n=36\n",
        "p=[]\n",
        "for i in range(0,6):\n",
        "    k[i]=data.iloc[m:n,[0,1,2,5]].values\n",
        "    k[i]=pd.DataFrame(k[i])\n",
        "    k[i]=k[i].rename(columns={0:\"product\",1:'year',2:'month',3:'sold product'})\n",
        "    m= n\n",
        "    n=n+41\n"
      ]
    },
    {
      "cell_type": "code",
      "execution_count": 35,
      "metadata": {
        "id": "spdKOiX7sjRB"
      },
      "outputs": [],
      "source": [
        "b=k[0]['month'].unique().tolist()"
      ]
    },
    {
      "cell_type": "code",
      "execution_count": 36,
      "metadata": {},
      "outputs": [],
      "source": [
        "def to2D(twoD):\n",
        "    oneD = []\n",
        "    for i in twoD:\n",
        "        oneD.extend(i)\n",
        "    return(oneD)"
      ]
    },
    {
      "cell_type": "code",
      "execution_count": 37,
      "metadata": {},
      "outputs": [
        {
          "data": {
            "text/plain": [
              "[74, 86, 89, 95, 112, 98, 99, 115, 112, 98, 110, 109]"
            ]
          },
          "execution_count": 37,
          "metadata": {},
          "output_type": "execute_result"
        }
      ],
      "source": [
        "\n",
        "to2D(k[0].iloc[24:36,[3]].values.tolist())"
      ]
    },
    {
      "cell_type": "code",
      "execution_count": 38,
      "metadata": {},
      "outputs": [
        {
          "data": {
            "text/plain": [
              "Text(0.5, 1.0, 'colgate 2021')"
            ]
          },
          "execution_count": 38,
          "metadata": {},
          "output_type": "execute_result"
        },
        {
          "data": {
            "image/png": "[encoded data removed]",
            "text/plain": [
              "<Figure size 432x288 with 1 Axes>"
            ]
          },
          "metadata": {},
          "output_type": "display_data"
        },
        {
          "data": {
            "image/png": "[encoded data removed]",
            "text/plain": [
              "<Figure size 432x288 with 1 Axes>"
            ]
          },
          "metadata": {},
          "output_type": "display_data"
        },
        {
          "data": {
            "image/png": "[encoded data removed]",
            "text/plain": [
              "<Figure size 432x288 with 1 Axes>"
            ]
          },
          "metadata": {},
          "output_type": "display_data"
        }
      ],
      "source": [
        "fig, ax = plt.subplots()\n",
        "ax.pie(to2D(k[0].iloc[:12,[3]].values.tolist()),labels=b,autopct='%1.1f%%')\n",
        "ax.set_title('colgate 2019')\n",
        "fig,ax2 = plt.subplots()\n",
        "ax2.pie(to2D(k[0].iloc[12:24,[3]].values.tolist()),labels=b,autopct='%1.1f%%')\n",
        "ax2.set_title('colgate 2020')\n",
        "fig,ax3 = plt.subplots()\n",
        "ax3.pie(to2D(k[0].iloc[24:36,[3]].values.tolist()),labels=b,autopct='%1.1f%%')\n",
        "ax3.set_title('colgate 2021')"
      ]
    },
    {
      "cell_type": "code",
      "execution_count": 39,
      "metadata": {},
      "outputs": [],
      "source": [
        "for i in range(0,6):\n",
        "  k[i]=k[i].pivot(index='month', columns = 'year',values = 'sold product')"
      ]
    },
    {
      "cell_type": "code",
      "execution_count": 40,
      "metadata": {
        "colab": {
          "base_uri": "https://localhost:8080/",
          "height": 1000
        },
        "id": "-sQO4Suzvq1m",
        "outputId": "46a6721c-ffc0-4d7e-ee4f-7303903639af"
      },
      "outputs": [
        {
          "data": {
            "image/png": "[encoded data removed]",
            "text/plain": [
              "<Figure size 720x432 with 1 Axes>"
            ]
          },
          "metadata": {
            "needs_background": "light"
          },
          "output_type": "display_data"
        },
        {
          "data": {
            "image/png": "[encoded data removed]",
            "text/plain": [
              "<Figure size 720x432 with 1 Axes>"
            ]
          },
          "metadata": {
            "needs_background": "light"
          },
          "output_type": "display_data"
        },
        {
          "data": {
            "image/png": "[encoded data removed]",
            "text/plain": [
              "<Figure size 720x432 with 1 Axes>"
            ]
          },
          "metadata": {
            "needs_background": "light"
          },
          "output_type": "display_data"
        },
        {
          "data": {
            "image/png": "[encoded data removed]",
            "text/plain": [
              "<Figure size 720x432 with 1 Axes>"
            ]
          },
          "metadata": {
            "needs_background": "light"
          },
          "output_type": "display_data"
        },
        {
          "data": {
            "image/png": "[encoded data removed]",
            "text/plain": [
              "<Figure size 720x432 with 1 Axes>"
            ]
          },
          "metadata": {
            "needs_background": "light"
          },
          "output_type": "display_data"
        },
        {
          "data": {
            "image/png": "[encoded data removed]",
            "text/plain": [
              "<Figure size 720x432 with 1 Axes>"
            ]
          },
          "metadata": {
            "needs_background": "light"
          },
          "output_type": "display_data"
        }
      ],
      "source": [
        "for i in range(0,6):\n",
        "  k[i].plot(kind='bar',figsize=(10,6))\n",
        "  plt.xlabel('month')\n",
        "  plt.ylabel('sold product')"
      ]
    },
    {
      "cell_type": "code",
      "execution_count": 41,
      "metadata": {
        "id": "XNzMrvMydy-N"
      },
      "outputs": [
        {
          "data": {
            "text/html": [
              "<div>\n",
              "<style scoped>\n",
              "    .dataframe tbody tr th:only-of-type {\n",
              "        vertical-align: middle;\n",
              "    }\n",
              "\n",
              "    .dataframe tbody tr th {\n",
              "        vertical-align: top;\n",
              "    }\n",
              "\n",
              "    .dataframe thead th {\n",
              "        text-align: right;\n",
              "    }\n",
              "</style>\n",
              "<table border=\"1\" class=\"dataframe\">\n",
              "  <thead>\n",
              "    <tr style=\"text-align: right;\">\n",
              "      <th></th>\n",
              "      <th>product</th>\n",
              "      <th>year</th>\n",
              "      <th>month</th>\n",
              "      <th>sold product</th>\n",
              "    </tr>\n",
              "  </thead>\n",
              "  <tbody>\n",
              "    <tr>\n",
              "      <th>0</th>\n",
              "      <td>colgate</td>\n",
              "      <td>2019</td>\n",
              "      <td>1</td>\n",
              "      <td>46</td>\n",
              "    </tr>\n",
              "    <tr>\n",
              "      <th>1</th>\n",
              "      <td>colgate</td>\n",
              "      <td>2019</td>\n",
              "      <td>2</td>\n",
              "      <td>38</td>\n",
              "    </tr>\n",
              "    <tr>\n",
              "      <th>2</th>\n",
              "      <td>colgate</td>\n",
              "      <td>2019</td>\n",
              "      <td>3</td>\n",
              "      <td>47</td>\n",
              "    </tr>\n",
              "    <tr>\n",
              "      <th>3</th>\n",
              "      <td>colgate</td>\n",
              "      <td>2019</td>\n",
              "      <td>4</td>\n",
              "      <td>40</td>\n",
              "    </tr>\n",
              "    <tr>\n",
              "      <th>4</th>\n",
              "      <td>colgate</td>\n",
              "      <td>2019</td>\n",
              "      <td>5</td>\n",
              "      <td>58</td>\n",
              "    </tr>\n",
              "    <tr>\n",
              "      <th>5</th>\n",
              "      <td>colgate</td>\n",
              "      <td>2019</td>\n",
              "      <td>6</td>\n",
              "      <td>39</td>\n",
              "    </tr>\n",
              "    <tr>\n",
              "      <th>6</th>\n",
              "      <td>colgate</td>\n",
              "      <td>2019</td>\n",
              "      <td>7</td>\n",
              "      <td>51</td>\n",
              "    </tr>\n",
              "    <tr>\n",
              "      <th>7</th>\n",
              "      <td>colgate</td>\n",
              "      <td>2019</td>\n",
              "      <td>8</td>\n",
              "      <td>47</td>\n",
              "    </tr>\n",
              "    <tr>\n",
              "      <th>8</th>\n",
              "      <td>colgate</td>\n",
              "      <td>2019</td>\n",
              "      <td>9</td>\n",
              "      <td>56</td>\n",
              "    </tr>\n",
              "    <tr>\n",
              "      <th>9</th>\n",
              "      <td>colgate</td>\n",
              "      <td>2019</td>\n",
              "      <td>10</td>\n",
              "      <td>44</td>\n",
              "    </tr>\n",
              "    <tr>\n",
              "      <th>10</th>\n",
              "      <td>colgate</td>\n",
              "      <td>2019</td>\n",
              "      <td>11</td>\n",
              "      <td>16</td>\n",
              "    </tr>\n",
              "    <tr>\n",
              "      <th>11</th>\n",
              "      <td>colgate</td>\n",
              "      <td>2019</td>\n",
              "      <td>12</td>\n",
              "      <td>48</td>\n",
              "    </tr>\n",
              "    <tr>\n",
              "      <th>12</th>\n",
              "      <td>colgate</td>\n",
              "      <td>2020</td>\n",
              "      <td>1</td>\n",
              "      <td>56</td>\n",
              "    </tr>\n",
              "    <tr>\n",
              "      <th>13</th>\n",
              "      <td>colgate</td>\n",
              "      <td>2020</td>\n",
              "      <td>2</td>\n",
              "      <td>86</td>\n",
              "    </tr>\n",
              "    <tr>\n",
              "      <th>14</th>\n",
              "      <td>colgate</td>\n",
              "      <td>2020</td>\n",
              "      <td>3</td>\n",
              "      <td>59</td>\n",
              "    </tr>\n",
              "    <tr>\n",
              "      <th>15</th>\n",
              "      <td>colgate</td>\n",
              "      <td>2020</td>\n",
              "      <td>4</td>\n",
              "      <td>86</td>\n",
              "    </tr>\n",
              "    <tr>\n",
              "      <th>16</th>\n",
              "      <td>colgate</td>\n",
              "      <td>2020</td>\n",
              "      <td>5</td>\n",
              "      <td>75</td>\n",
              "    </tr>\n",
              "    <tr>\n",
              "      <th>17</th>\n",
              "      <td>colgate</td>\n",
              "      <td>2020</td>\n",
              "      <td>6</td>\n",
              "      <td>59</td>\n",
              "    </tr>\n",
              "    <tr>\n",
              "      <th>18</th>\n",
              "      <td>colgate</td>\n",
              "      <td>2020</td>\n",
              "      <td>7</td>\n",
              "      <td>81</td>\n",
              "    </tr>\n",
              "    <tr>\n",
              "      <th>19</th>\n",
              "      <td>colgate</td>\n",
              "      <td>2020</td>\n",
              "      <td>8</td>\n",
              "      <td>67</td>\n",
              "    </tr>\n",
              "    <tr>\n",
              "      <th>20</th>\n",
              "      <td>colgate</td>\n",
              "      <td>2020</td>\n",
              "      <td>9</td>\n",
              "      <td>62</td>\n",
              "    </tr>\n",
              "    <tr>\n",
              "      <th>21</th>\n",
              "      <td>colgate</td>\n",
              "      <td>2020</td>\n",
              "      <td>10</td>\n",
              "      <td>56</td>\n",
              "    </tr>\n",
              "    <tr>\n",
              "      <th>22</th>\n",
              "      <td>colgate</td>\n",
              "      <td>2020</td>\n",
              "      <td>11</td>\n",
              "      <td>71</td>\n",
              "    </tr>\n",
              "    <tr>\n",
              "      <th>23</th>\n",
              "      <td>colgate</td>\n",
              "      <td>2020</td>\n",
              "      <td>12</td>\n",
              "      <td>58</td>\n",
              "    </tr>\n",
              "    <tr>\n",
              "      <th>24</th>\n",
              "      <td>colgate</td>\n",
              "      <td>2021</td>\n",
              "      <td>1</td>\n",
              "      <td>74</td>\n",
              "    </tr>\n",
              "    <tr>\n",
              "      <th>25</th>\n",
              "      <td>colgate</td>\n",
              "      <td>2021</td>\n",
              "      <td>2</td>\n",
              "      <td>86</td>\n",
              "    </tr>\n",
              "    <tr>\n",
              "      <th>26</th>\n",
              "      <td>colgate</td>\n",
              "      <td>2021</td>\n",
              "      <td>3</td>\n",
              "      <td>89</td>\n",
              "    </tr>\n",
              "    <tr>\n",
              "      <th>27</th>\n",
              "      <td>colgate</td>\n",
              "      <td>2021</td>\n",
              "      <td>4</td>\n",
              "      <td>95</td>\n",
              "    </tr>\n",
              "    <tr>\n",
              "      <th>28</th>\n",
              "      <td>colgate</td>\n",
              "      <td>2021</td>\n",
              "      <td>5</td>\n",
              "      <td>112</td>\n",
              "    </tr>\n",
              "    <tr>\n",
              "      <th>29</th>\n",
              "      <td>colgate</td>\n",
              "      <td>2021</td>\n",
              "      <td>6</td>\n",
              "      <td>98</td>\n",
              "    </tr>\n",
              "    <tr>\n",
              "      <th>30</th>\n",
              "      <td>colgate</td>\n",
              "      <td>2021</td>\n",
              "      <td>7</td>\n",
              "      <td>99</td>\n",
              "    </tr>\n",
              "    <tr>\n",
              "      <th>31</th>\n",
              "      <td>colgate</td>\n",
              "      <td>2021</td>\n",
              "      <td>8</td>\n",
              "      <td>115</td>\n",
              "    </tr>\n",
              "    <tr>\n",
              "      <th>32</th>\n",
              "      <td>colgate</td>\n",
              "      <td>2021</td>\n",
              "      <td>9</td>\n",
              "      <td>112</td>\n",
              "    </tr>\n",
              "    <tr>\n",
              "      <th>33</th>\n",
              "      <td>colgate</td>\n",
              "      <td>2021</td>\n",
              "      <td>10</td>\n",
              "      <td>98</td>\n",
              "    </tr>\n",
              "    <tr>\n",
              "      <th>34</th>\n",
              "      <td>colgate</td>\n",
              "      <td>2021</td>\n",
              "      <td>11</td>\n",
              "      <td>110</td>\n",
              "    </tr>\n",
              "    <tr>\n",
              "      <th>35</th>\n",
              "      <td>colgate</td>\n",
              "      <td>2021</td>\n",
              "      <td>12</td>\n",
              "      <td>109</td>\n",
              "    </tr>\n",
              "  </tbody>\n",
              "</table>\n",
              "</div>"
            ],
            "text/plain": [
              "    product  year month sold product\n",
              "0   colgate  2019     1           46\n",
              "1   colgate  2019     2           38\n",
              "2   colgate  2019     3           47\n",
              "3   colgate  2019     4           40\n",
              "4   colgate  2019     5           58\n",
              "5   colgate  2019     6           39\n",
              "6   colgate  2019     7           51\n",
              "7   colgate  2019     8           47\n",
              "8   colgate  2019     9           56\n",
              "9   colgate  2019    10           44\n",
              "10  colgate  2019    11           16\n",
              "11  colgate  2019    12           48\n",
              "12  colgate  2020     1           56\n",
              "13  colgate  2020     2           86\n",
              "14  colgate  2020     3           59\n",
              "15  colgate  2020     4           86\n",
              "16  colgate  2020     5           75\n",
              "17  colgate  2020     6           59\n",
              "18  colgate  2020     7           81\n",
              "19  colgate  2020     8           67\n",
              "20  colgate  2020     9           62\n",
              "21  colgate  2020    10           56\n",
              "22  colgate  2020    11           71\n",
              "23  colgate  2020    12           58\n",
              "24  colgate  2021     1           74\n",
              "25  colgate  2021     2           86\n",
              "26  colgate  2021     3           89\n",
              "27  colgate  2021     4           95\n",
              "28  colgate  2021     5          112\n",
              "29  colgate  2021     6           98\n",
              "30  colgate  2021     7           99\n",
              "31  colgate  2021     8          115\n",
              "32  colgate  2021     9          112\n",
              "33  colgate  2021    10           98\n",
              "34  colgate  2021    11          110\n",
              "35  colgate  2021    12          109"
            ]
          },
          "execution_count": 41,
          "metadata": {},
          "output_type": "execute_result"
        }
      ],
      "source": [
        "colgate=data.iloc[:36,[0,1,2,5]].values\n",
        "colgate=pd.DataFrame(colgate)\n",
        "colgate=colgate.rename(columns={0:\"product\",1:'year',2:'month',3:'sold product'})\n",
        "colgate"
      ]
    },
    {
      "cell_type": "code",
      "execution_count": 42,
      "metadata": {
        "id": "9hjHpNfenMGk"
      },
      "outputs": [
        {
          "data": {
            "text/html": [
              "<div>\n",
              "<style scoped>\n",
              "    .dataframe tbody tr th:only-of-type {\n",
              "        vertical-align: middle;\n",
              "    }\n",
              "\n",
              "    .dataframe tbody tr th {\n",
              "        vertical-align: top;\n",
              "    }\n",
              "\n",
              "    .dataframe thead th {\n",
              "        text-align: right;\n",
              "    }\n",
              "</style>\n",
              "<table border=\"1\" class=\"dataframe\">\n",
              "  <thead>\n",
              "    <tr style=\"text-align: right;\">\n",
              "      <th></th>\n",
              "      <th>product</th>\n",
              "      <th>year</th>\n",
              "      <th>month</th>\n",
              "      <th>sold product</th>\n",
              "    </tr>\n",
              "  </thead>\n",
              "  <tbody>\n",
              "    <tr>\n",
              "      <th>0</th>\n",
              "      <td>gemini  tea powder</td>\n",
              "      <td>2019</td>\n",
              "      <td>1</td>\n",
              "      <td>14</td>\n",
              "    </tr>\n",
              "    <tr>\n",
              "      <th>1</th>\n",
              "      <td>gemini  tea powder</td>\n",
              "      <td>2019</td>\n",
              "      <td>2</td>\n",
              "      <td>18</td>\n",
              "    </tr>\n",
              "    <tr>\n",
              "      <th>2</th>\n",
              "      <td>gemini  tea powder</td>\n",
              "      <td>2019</td>\n",
              "      <td>3</td>\n",
              "      <td>17</td>\n",
              "    </tr>\n",
              "    <tr>\n",
              "      <th>3</th>\n",
              "      <td>gemini  tea powder</td>\n",
              "      <td>2019</td>\n",
              "      <td>4</td>\n",
              "      <td>19</td>\n",
              "    </tr>\n",
              "    <tr>\n",
              "      <th>4</th>\n",
              "      <td>gemini  tea powder</td>\n",
              "      <td>2019</td>\n",
              "      <td>5</td>\n",
              "      <td>26</td>\n",
              "    </tr>\n",
              "    <tr>\n",
              "      <th>5</th>\n",
              "      <td>gemini  tea powder</td>\n",
              "      <td>2019</td>\n",
              "      <td>6</td>\n",
              "      <td>14</td>\n",
              "    </tr>\n",
              "    <tr>\n",
              "      <th>6</th>\n",
              "      <td>gemini  tea powder</td>\n",
              "      <td>2019</td>\n",
              "      <td>7</td>\n",
              "      <td>31</td>\n",
              "    </tr>\n",
              "    <tr>\n",
              "      <th>7</th>\n",
              "      <td>gemini  tea powder</td>\n",
              "      <td>2019</td>\n",
              "      <td>8</td>\n",
              "      <td>20</td>\n",
              "    </tr>\n",
              "    <tr>\n",
              "      <th>8</th>\n",
              "      <td>gemini  tea powder</td>\n",
              "      <td>2019</td>\n",
              "      <td>9</td>\n",
              "      <td>19</td>\n",
              "    </tr>\n",
              "    <tr>\n",
              "      <th>9</th>\n",
              "      <td>gemini  tea powder</td>\n",
              "      <td>2019</td>\n",
              "      <td>10</td>\n",
              "      <td>16</td>\n",
              "    </tr>\n",
              "    <tr>\n",
              "      <th>10</th>\n",
              "      <td>gemini  tea powder</td>\n",
              "      <td>2019</td>\n",
              "      <td>11</td>\n",
              "      <td>13</td>\n",
              "    </tr>\n",
              "    <tr>\n",
              "      <th>11</th>\n",
              "      <td>gemini  tea powder</td>\n",
              "      <td>2019</td>\n",
              "      <td>12</td>\n",
              "      <td>19</td>\n",
              "    </tr>\n",
              "    <tr>\n",
              "      <th>12</th>\n",
              "      <td>gemini  tea powder</td>\n",
              "      <td>2020</td>\n",
              "      <td>1</td>\n",
              "      <td>23</td>\n",
              "    </tr>\n",
              "    <tr>\n",
              "      <th>13</th>\n",
              "      <td>gemini  tea powder</td>\n",
              "      <td>2020</td>\n",
              "      <td>2</td>\n",
              "      <td>19</td>\n",
              "    </tr>\n",
              "    <tr>\n",
              "      <th>14</th>\n",
              "      <td>gemini  tea powder</td>\n",
              "      <td>2020</td>\n",
              "      <td>3</td>\n",
              "      <td>28</td>\n",
              "    </tr>\n",
              "    <tr>\n",
              "      <th>15</th>\n",
              "      <td>gemini  tea powder</td>\n",
              "      <td>2020</td>\n",
              "      <td>4</td>\n",
              "      <td>13</td>\n",
              "    </tr>\n",
              "    <tr>\n",
              "      <th>16</th>\n",
              "      <td>gemini  tea powder</td>\n",
              "      <td>2020</td>\n",
              "      <td>5</td>\n",
              "      <td>31</td>\n",
              "    </tr>\n",
              "    <tr>\n",
              "      <th>17</th>\n",
              "      <td>gemini  tea powder</td>\n",
              "      <td>2020</td>\n",
              "      <td>6</td>\n",
              "      <td>18</td>\n",
              "    </tr>\n",
              "    <tr>\n",
              "      <th>18</th>\n",
              "      <td>gemini  tea powder</td>\n",
              "      <td>2020</td>\n",
              "      <td>7</td>\n",
              "      <td>33</td>\n",
              "    </tr>\n",
              "    <tr>\n",
              "      <th>19</th>\n",
              "      <td>gemini  tea powder</td>\n",
              "      <td>2020</td>\n",
              "      <td>8</td>\n",
              "      <td>31</td>\n",
              "    </tr>\n",
              "    <tr>\n",
              "      <th>20</th>\n",
              "      <td>gemini  tea powder</td>\n",
              "      <td>2020</td>\n",
              "      <td>9</td>\n",
              "      <td>21</td>\n",
              "    </tr>\n",
              "    <tr>\n",
              "      <th>21</th>\n",
              "      <td>gemini  tea powder</td>\n",
              "      <td>2020</td>\n",
              "      <td>10</td>\n",
              "      <td>28</td>\n",
              "    </tr>\n",
              "    <tr>\n",
              "      <th>22</th>\n",
              "      <td>gemini  tea powder</td>\n",
              "      <td>2020</td>\n",
              "      <td>11</td>\n",
              "      <td>33</td>\n",
              "    </tr>\n",
              "    <tr>\n",
              "      <th>23</th>\n",
              "      <td>gemini  tea powder</td>\n",
              "      <td>2020</td>\n",
              "      <td>12</td>\n",
              "      <td>38</td>\n",
              "    </tr>\n",
              "    <tr>\n",
              "      <th>24</th>\n",
              "      <td>gemini  tea powder</td>\n",
              "      <td>2021</td>\n",
              "      <td>1</td>\n",
              "      <td>21</td>\n",
              "    </tr>\n",
              "    <tr>\n",
              "      <th>25</th>\n",
              "      <td>gemini  tea powder</td>\n",
              "      <td>2021</td>\n",
              "      <td>2</td>\n",
              "      <td>33</td>\n",
              "    </tr>\n",
              "    <tr>\n",
              "      <th>26</th>\n",
              "      <td>gemini  tea powder</td>\n",
              "      <td>2021</td>\n",
              "      <td>3</td>\n",
              "      <td>38</td>\n",
              "    </tr>\n",
              "    <tr>\n",
              "      <th>27</th>\n",
              "      <td>gemini  tea powder</td>\n",
              "      <td>2021</td>\n",
              "      <td>4</td>\n",
              "      <td>27</td>\n",
              "    </tr>\n",
              "    <tr>\n",
              "      <th>28</th>\n",
              "      <td>gemini  tea powder</td>\n",
              "      <td>2021</td>\n",
              "      <td>5</td>\n",
              "      <td>36</td>\n",
              "    </tr>\n",
              "    <tr>\n",
              "      <th>29</th>\n",
              "      <td>gemini  tea powder</td>\n",
              "      <td>2021</td>\n",
              "      <td>6</td>\n",
              "      <td>41</td>\n",
              "    </tr>\n",
              "    <tr>\n",
              "      <th>30</th>\n",
              "      <td>gemini  tea powder</td>\n",
              "      <td>2021</td>\n",
              "      <td>7</td>\n",
              "      <td>39</td>\n",
              "    </tr>\n",
              "    <tr>\n",
              "      <th>31</th>\n",
              "      <td>gemini  tea powder</td>\n",
              "      <td>2021</td>\n",
              "      <td>8</td>\n",
              "      <td>43</td>\n",
              "    </tr>\n",
              "    <tr>\n",
              "      <th>32</th>\n",
              "      <td>gemini  tea powder</td>\n",
              "      <td>2021</td>\n",
              "      <td>9</td>\n",
              "      <td>37</td>\n",
              "    </tr>\n",
              "    <tr>\n",
              "      <th>33</th>\n",
              "      <td>gemini  tea powder</td>\n",
              "      <td>2021</td>\n",
              "      <td>10</td>\n",
              "      <td>39</td>\n",
              "    </tr>\n",
              "    <tr>\n",
              "      <th>34</th>\n",
              "      <td>gemini  tea powder</td>\n",
              "      <td>2021</td>\n",
              "      <td>11</td>\n",
              "      <td>37</td>\n",
              "    </tr>\n",
              "    <tr>\n",
              "      <th>35</th>\n",
              "      <td>gemini  tea powder</td>\n",
              "      <td>2021</td>\n",
              "      <td>12</td>\n",
              "      <td>41</td>\n",
              "    </tr>\n",
              "  </tbody>\n",
              "</table>\n",
              "</div>"
            ],
            "text/plain": [
              "               product  year month sold product\n",
              "0   gemini  tea powder  2019     1           14\n",
              "1   gemini  tea powder  2019     2           18\n",
              "2   gemini  tea powder  2019     3           17\n",
              "3   gemini  tea powder  2019     4           19\n",
              "4   gemini  tea powder  2019     5           26\n",
              "5   gemini  tea powder  2019     6           14\n",
              "6   gemini  tea powder  2019     7           31\n",
              "7   gemini  tea powder  2019     8           20\n",
              "8   gemini  tea powder  2019     9           19\n",
              "9   gemini  tea powder  2019    10           16\n",
              "10  gemini  tea powder  2019    11           13\n",
              "11  gemini  tea powder  2019    12           19\n",
              "12  gemini  tea powder  2020     1           23\n",
              "13  gemini  tea powder  2020     2           19\n",
              "14  gemini  tea powder  2020     3           28\n",
              "15  gemini  tea powder  2020     4           13\n",
              "16  gemini  tea powder  2020     5           31\n",
              "17  gemini  tea powder  2020     6           18\n",
              "18  gemini  tea powder  2020     7           33\n",
              "19  gemini  tea powder  2020     8           31\n",
              "20  gemini  tea powder  2020     9           21\n",
              "21  gemini  tea powder  2020    10           28\n",
              "22  gemini  tea powder  2020    11           33\n",
              "23  gemini  tea powder  2020    12           38\n",
              "24  gemini  tea powder  2021     1           21\n",
              "25  gemini  tea powder  2021     2           33\n",
              "26  gemini  tea powder  2021     3           38\n",
              "27  gemini  tea powder  2021     4           27\n",
              "28  gemini  tea powder  2021     5           36\n",
              "29  gemini  tea powder  2021     6           41\n",
              "30  gemini  tea powder  2021     7           39\n",
              "31  gemini  tea powder  2021     8           43\n",
              "32  gemini  tea powder  2021     9           37\n",
              "33  gemini  tea powder  2021    10           39\n",
              "34  gemini  tea powder  2021    11           37\n",
              "35  gemini  tea powder  2021    12           41"
            ]
          },
          "execution_count": 42,
          "metadata": {},
          "output_type": "execute_result"
        }
      ],
      "source": [
        "gta= data.iloc[36:72,[0,1,2,5]].values\n",
        "gta=pd.DataFrame(gta)\n",
        "gta=gta.rename(columns={0:\"product\",1:'year',2:'month',3:'sold product'})\n",
        "gta"
      ]
    },
    {
      "cell_type": "code",
      "execution_count": 43,
      "metadata": {
        "id": "ue62ZlwsgrRt"
      },
      "outputs": [],
      "source": [
        "colgate=colgate.pivot(index='month', columns = 'year',values = 'sold product')\n",
        "gta=gta.pivot(index='month', columns = 'year',values = 'sold product')\n",
        "gta=pd.DataFrame(gta)\n",
        "colgate=pd.DataFrame(colgate)"
      ]
    },
    {
      "cell_type": "code",
      "execution_count": 44,
      "metadata": {
        "colab": {
          "base_uri": "https://localhost:8080/"
        },
        "id": "DZqkj93TrStC",
        "outputId": "7fce5803-081c-42ac-869c-0d4e63e82758"
      },
      "outputs": [
        {
          "data": {
            "text/plain": [
              "[year  2019 2020 2021\n",
              " month               \n",
              " 1       46   56   74\n",
              " 2       38   86   86\n",
              " 3       47   59   89\n",
              " 4       40   86   95\n",
              " 5       58   75  112\n",
              " 6       39   59   98\n",
              " 7       51   81   99\n",
              " 8       47   67  115\n",
              " 9       56   62  112\n",
              " 10      44   56   98\n",
              " 11      16   71  110\n",
              " 12      48   58  109,\n",
              " year  2019 2020 2021\n",
              " month               \n",
              " 1       14   23   21\n",
              " 2       18   19   33\n",
              " 3       17   28   38\n",
              " 4       19   13   27\n",
              " 5       26   31   36\n",
              " 6       14   18   41\n",
              " 7       31   33   39\n",
              " 8       20   31   43\n",
              " 9       19   21   37\n",
              " 10      16   28   39\n",
              " 11      13   33   37\n",
              " 12      19   38   41]"
            ]
          },
          "execution_count": 44,
          "metadata": {},
          "output_type": "execute_result"
        }
      ],
      "source": [
        "[colgate,gta]"
      ]
    },
    {
      "cell_type": "code",
      "execution_count": 45,
      "metadata": {
        "colab": {
          "base_uri": "https://localhost:8080/",
          "height": 516
        },
        "id": "7nFSYLnzlUiF",
        "outputId": "cd49c82b-e87e-495d-89ae-c8ccd5b5d81e"
      },
      "outputs": [
        {
          "data": {
            "image/png": "[encoded data removed]",
            "text/plain": [
              "<Figure size 1080x576 with 1 Axes>"
            ]
          },
          "metadata": {
            "needs_background": "light"
          },
          "output_type": "display_data"
        }
      ],
      "source": [
        "colgate.plot(kind='bar',figsize=(15,8))\n",
        "plt.xlabel('month')\n",
        "plt.ylabel('sold product')\n",
        "plt.title('month vs no. of products in 3 years(colgate)')\n",
        "plt.show()"
      ]
    },
    {
      "cell_type": "code",
      "execution_count": 46,
      "metadata": {
        "colab": {
          "base_uri": "https://localhost:8080/",
          "height": 516
        },
        "id": "qwuorWCWpDfL",
        "outputId": "411319d8-48b8-4a6f-8628-1f397c24cfc8"
      },
      "outputs": [
        {
          "data": {
            "image/png": "[encoded data removed]",
            "text/plain": [
              "<Figure size 1080x576 with 1 Axes>"
            ]
          },
          "metadata": {
            "needs_background": "light"
          },
          "output_type": "display_data"
        }
      ],
      "source": [
        "#@title gemini tea powder graph\n",
        "#@markdown this graph shows us the variations of demnad of product in the 3 years\n",
        "gta.plot(kind='bar',figsize=(15,8))\n",
        "plt.xlabel('month')\n",
        "plt.ylabel('sold product')\n",
        "plt.title('month vs no. of products in 3 years(gemini)')\n",
        "plt.show()"
      ]
    },
    {
      "cell_type": "markdown",
      "metadata": {},
      "source": [
        "xgb"
      ]
    },
    {
      "cell_type": "code",
      "execution_count": 47,
      "metadata": {},
      "outputs": [
        {
          "name": "stdout",
          "output_type": "stream",
          "text": [
            "[20:15:38] WARNING: C:/Users/Administrator/workspace/xgboost-win64_release_1.6.0/src/objective/regression_obj.cu:203: reg:linear is now deprecated in favor of reg:squarederror.\n"
          ]
        },
        {
          "data": {
            "text/plain": [
              "0.9627793752165374"
            ]
          },
          "execution_count": 47,
          "metadata": {},
          "output_type": "execute_result"
        }
      ],
      "source": [
        "import xgboost as xg\n",
        "xgb_r = xg.XGBRegressor(objective ='reg:linear',n_estimators = 10, seed = 123)\n",
        "pipex = make_pipeline(ct,xgb_r)\n",
        "pipex.fit(x_train, y_train)\n",
        "y_pred= pipex.predict(x_test)\n",
        "r2_score(y_test, y_pred)"
      ]
    },
    {
      "cell_type": "code",
      "execution_count": 48,
      "metadata": {},
      "outputs": [
        {
          "data": {
            "text/plain": [
              "array([93.97856], dtype=float32)"
            ]
          },
          "execution_count": 48,
          "metadata": {},
          "output_type": "execute_result"
        }
      ],
      "source": [
        "pipex.predict([['colgate',2022,3]])"
      ]
    },
    {
      "cell_type": "code",
      "execution_count": 49,
      "metadata": {},
      "outputs": [
        {
          "data": {
            "text/plain": [
              "'gemini  tea powder'"
            ]
          },
          "execution_count": 49,
          "metadata": {},
          "output_type": "execute_result"
        }
      ],
      "source": [
        "k=data['product'].unique()\n",
        "k[1]"
      ]
    },
    {
      "cell_type": "code",
      "execution_count": 50,
      "metadata": {},
      "outputs": [],
      "source": [
        "p1=[]\n",
        "p2=[]\n",
        "p3=[]\n",
        "p4=[]\n",
        "p5=[]\n",
        "p6=[]\n",
        "for i in range(0,6):\n",
        "  for j in range(1,13):\n",
        "    if i==0:\n",
        "      p1.append(float(pipex.predict([[k[i],2022,j]])))\n",
        "    if i==1:\n",
        "      p2.append(float(pipex.predict([[k[i],2022,j]])))\n",
        "    if i==2:\n",
        "      p3.append(float(pipex.predict([[k[i],2022,j]])))\n",
        "    if i==3:\n",
        "      p4.append(float(pipex.predict([[k[i],2022,j]])))\n",
        "    if i==4:\n",
        "      p5.append(float(pipex.predict([[k[i],2022,j]])))\n",
        "    if i==5:\n",
        "      p6.append(float(pipex.predict([[k[i],2022,j]])))\n",
        "    \n"
      ]
    },
    {
      "cell_type": "code",
      "execution_count": 51,
      "metadata": {},
      "outputs": [
        {
          "data": {
            "image/png": "[encoded data removed]",
            "text/plain": [
              "<Figure size 432x288 with 1 Axes>"
            ]
          },
          "metadata": {
            "needs_background": "light"
          },
          "output_type": "display_data"
        }
      ],
      "source": [
        "month=data.iloc[:12,[2]].values\n",
        "plt.plot(month,p1,c='red',label='p1')\n",
        "plt.plot(month,p2,c='green',label='p2')\n",
        "plt.plot(month,p3,c='blue',label='p3')\n",
        "plt.plot(month,p4,c='magenta',label='p4')\n",
        "plt.plot(month,p5,c='cyan',label='p5')\n",
        "plt.plot(month,p6,c='black',label='p6')\n",
        "plt.title('month va sold products')\n",
        "plt.xlabel('month')\n",
        "plt.ylabel('products')\n",
        "plt.legend()\n",
        "plt.show()"
      ]
    },
    {
      "cell_type": "code",
      "execution_count": 52,
      "metadata": {},
      "outputs": [
        {
          "data": {
            "text/plain": [
              "[83.70703887939453,\n",
              " 89.99624633789062,\n",
              " 93.97856140136719,\n",
              " 94.94483947753906,\n",
              " 94.94483947753906,\n",
              " 94.47050476074219,\n",
              " 95.63092041015625,\n",
              " 96.67689514160156,\n",
              " 96.67689514160156,\n",
              " 96.67689514160156,\n",
              " 96.67689514160156,\n",
              " 96.67689514160156]"
            ]
          },
          "execution_count": 52,
          "metadata": {},
          "output_type": "execute_result"
        }
      ],
      "source": [
        "p1"
      ]
    },
    {
      "cell_type": "code",
      "execution_count": 53,
      "metadata": {},
      "outputs": [
        {
          "data": {
            "text/plain": [
              "[<matplotlib.lines.Line2D at 0x1e1524de1f0>]"
            ]
          },
          "execution_count": 53,
          "metadata": {},
          "output_type": "execute_result"
        },
        {
          "data": {
            "image/png": "[encoded data removed]",
            "text/plain": [
              "<Figure size 432x288 with 1 Axes>"
            ]
          },
          "metadata": {
            "needs_background": "light"
          },
          "output_type": "display_data"
        }
      ],
      "source": [
        "plt.plot(month,p6,c='black',label='p6')"
      ]
    },
    {
      "cell_type": "code",
      "execution_count": null,
      "metadata": {},
      "outputs": [],
      "source": []
    },
    {
      "cell_type": "code",
      "execution_count": 54,
      "metadata": {
        "id": "JH_FUYGnbA-p"
      },
      "outputs": [
        {
          "ename": "ImportError",
          "evalue": "initialization failed",
          "output_type": "error",
          "traceback": [
            "\u001b[1;31m---------------------------------------------------------------------------\u001b[0m",
            "\u001b[1;31mKeyboardInterrupt\u001b[0m                         Traceback (most recent call last)",
            "\u001b[1;31mKeyboardInterrupt\u001b[0m: ",
            "\nThe above exception was the direct cause of the following exception:\n",
            "\u001b[1;31mImportError\u001b[0m                               Traceback (most recent call last)",
            "\u001b[1;32mc:\\mlproj\\product1 (1).ipynb Cell 57\u001b[0m in \u001b[0;36m<cell line: 1>\u001b[1;34m()\u001b[0m\n\u001b[1;32m----> <a href='vscode-notebook-cell:/c%3A/mlproj/product1%20%281%29.ipynb#ch0000056?line=0'>1</a>\u001b[0m \u001b[39mimport\u001b[39;00m \u001b[39mtensorflow\u001b[39;00m \u001b[39mas\u001b[39;00m \u001b[39mtf\u001b[39;00m\n\u001b[0;32m      <a href='vscode-notebook-cell:/c%3A/mlproj/product1%20%281%29.ipynb#ch0000056?line=1'>2</a>\u001b[0m ann \u001b[39m=\u001b[39m tf\u001b[39m.\u001b[39mkeras\u001b[39m.\u001b[39mmodels\u001b[39m.\u001b[39mSequential()\n",
            "File \u001b[1;32mc:\\Users\\anaconda3\\lib\\site-packages\\tensorflow\\__init__.py:37\u001b[0m, in \u001b[0;36m<module>\u001b[1;34m\u001b[0m\n\u001b[0;32m     34\u001b[0m \u001b[39mimport\u001b[39;00m \u001b[39msys\u001b[39;00m \u001b[39mas\u001b[39;00m \u001b[39m_sys\u001b[39;00m\n\u001b[0;32m     35\u001b[0m \u001b[39mimport\u001b[39;00m \u001b[39mtyping\u001b[39;00m \u001b[39mas\u001b[39;00m \u001b[39m_typing\u001b[39;00m\n\u001b[1;32m---> 37\u001b[0m \u001b[39mfrom\u001b[39;00m \u001b[39mtensorflow\u001b[39;00m\u001b[39m.\u001b[39;00m\u001b[39mpython\u001b[39;00m\u001b[39m.\u001b[39;00m\u001b[39mtools\u001b[39;00m \u001b[39mimport\u001b[39;00m module_util \u001b[39mas\u001b[39;00m _module_util\n\u001b[0;32m     38\u001b[0m \u001b[39mfrom\u001b[39;00m \u001b[39mtensorflow\u001b[39;00m\u001b[39m.\u001b[39;00m\u001b[39mpython\u001b[39;00m\u001b[39m.\u001b[39;00m\u001b[39mutil\u001b[39;00m\u001b[39m.\u001b[39;00m\u001b[39mlazy_loader\u001b[39;00m \u001b[39mimport\u001b[39;00m LazyLoader \u001b[39mas\u001b[39;00m _LazyLoader\n\u001b[0;32m     40\u001b[0m \u001b[39m# Make sure code inside the TensorFlow codebase can use tf2.enabled() at import.\u001b[39;00m\n",
            "File \u001b[1;32mc:\\Users\\anaconda3\\lib\\site-packages\\tensorflow\\python\\__init__.py:42\u001b[0m, in \u001b[0;36m<module>\u001b[1;34m\u001b[0m\n\u001b[0;32m     37\u001b[0m \u001b[39mfrom\u001b[39;00m \u001b[39mtensorflow\u001b[39;00m\u001b[39m.\u001b[39;00m\u001b[39mpython\u001b[39;00m\u001b[39m.\u001b[39;00m\u001b[39meager\u001b[39;00m \u001b[39mimport\u001b[39;00m context\n\u001b[0;32m     39\u001b[0m \u001b[39m# pylint: enable=wildcard-import\u001b[39;00m\n\u001b[0;32m     40\u001b[0m \n\u001b[0;32m     41\u001b[0m \u001b[39m# Bring in subpackages.\u001b[39;00m\n\u001b[1;32m---> 42\u001b[0m \u001b[39mfrom\u001b[39;00m \u001b[39mtensorflow\u001b[39;00m\u001b[39m.\u001b[39;00m\u001b[39mpython\u001b[39;00m \u001b[39mimport\u001b[39;00m data\n\u001b[0;32m     43\u001b[0m \u001b[39mfrom\u001b[39;00m \u001b[39mtensorflow\u001b[39;00m\u001b[39m.\u001b[39;00m\u001b[39mpython\u001b[39;00m \u001b[39mimport\u001b[39;00m distribute\n\u001b[0;32m     44\u001b[0m \u001b[39m# from tensorflow.python import keras\u001b[39;00m\n",
            "File \u001b[1;32mc:\\Users\\anaconda3\\lib\\site-packages\\tensorflow\\python\\data\\__init__.py:21\u001b[0m, in \u001b[0;36m<module>\u001b[1;34m\u001b[0m\n\u001b[0;32m     15\u001b[0m \u001b[39m\"\"\"`tf.data.Dataset` API for input pipelines.\u001b[39;00m\n\u001b[0;32m     16\u001b[0m \n\u001b[0;32m     17\u001b[0m \u001b[39mSee [Importing Data](https://tensorflow.org/guide/data) for an overview.\u001b[39;00m\n\u001b[0;32m     18\u001b[0m \u001b[39m\"\"\"\u001b[39;00m\n\u001b[0;32m     20\u001b[0m \u001b[39m# pylint: disable=unused-import\u001b[39;00m\n\u001b[1;32m---> 21\u001b[0m \u001b[39mfrom\u001b[39;00m \u001b[39mtensorflow\u001b[39;00m\u001b[39m.\u001b[39;00m\u001b[39mpython\u001b[39;00m\u001b[39m.\u001b[39;00m\u001b[39mdata\u001b[39;00m \u001b[39mimport\u001b[39;00m experimental\n\u001b[0;32m     22\u001b[0m \u001b[39mfrom\u001b[39;00m \u001b[39mtensorflow\u001b[39;00m\u001b[39m.\u001b[39;00m\u001b[39mpython\u001b[39;00m\u001b[39m.\u001b[39;00m\u001b[39mdata\u001b[39;00m\u001b[39m.\u001b[39;00m\u001b[39mops\u001b[39;00m\u001b[39m.\u001b[39;00m\u001b[39mdataset_ops\u001b[39;00m \u001b[39mimport\u001b[39;00m AUTOTUNE\n\u001b[0;32m     23\u001b[0m \u001b[39mfrom\u001b[39;00m \u001b[39mtensorflow\u001b[39;00m\u001b[39m.\u001b[39;00m\u001b[39mpython\u001b[39;00m\u001b[39m.\u001b[39;00m\u001b[39mdata\u001b[39;00m\u001b[39m.\u001b[39;00m\u001b[39mops\u001b[39;00m\u001b[39m.\u001b[39;00m\u001b[39mdataset_ops\u001b[39;00m \u001b[39mimport\u001b[39;00m Dataset\n",
            "File \u001b[1;32mc:\\Users\\anaconda3\\lib\\site-packages\\tensorflow\\python\\data\\experimental\\__init__.py:95\u001b[0m, in \u001b[0;36m<module>\u001b[1;34m\u001b[0m\n\u001b[0;32m     15\u001b[0m \u001b[39m\"\"\"Experimental API for building input pipelines.\u001b[39;00m\n\u001b[0;32m     16\u001b[0m \n\u001b[0;32m     17\u001b[0m \u001b[39mThis module contains experimental `Dataset` sources and transformations that can\u001b[39;00m\n\u001b[1;32m   (...)\u001b[0m\n\u001b[0;32m     91\u001b[0m \u001b[39m@@UNKNOWN_CARDINALITY\u001b[39;00m\n\u001b[0;32m     92\u001b[0m \u001b[39m\"\"\"\u001b[39;00m\n\u001b[0;32m     94\u001b[0m \u001b[39m# pylint: disable=unused-import\u001b[39;00m\n\u001b[1;32m---> 95\u001b[0m \u001b[39mfrom\u001b[39;00m \u001b[39mtensorflow\u001b[39;00m\u001b[39m.\u001b[39;00m\u001b[39mpython\u001b[39;00m\u001b[39m.\u001b[39;00m\u001b[39mdata\u001b[39;00m\u001b[39m.\u001b[39;00m\u001b[39mexperimental\u001b[39;00m \u001b[39mimport\u001b[39;00m service\n\u001b[0;32m     96\u001b[0m \u001b[39mfrom\u001b[39;00m \u001b[39mtensorflow\u001b[39;00m\u001b[39m.\u001b[39;00m\u001b[39mpython\u001b[39;00m\u001b[39m.\u001b[39;00m\u001b[39mdata\u001b[39;00m\u001b[39m.\u001b[39;00m\u001b[39mexperimental\u001b[39;00m\u001b[39m.\u001b[39;00m\u001b[39mops\u001b[39;00m\u001b[39m.\u001b[39;00m\u001b[39mbatching\u001b[39;00m \u001b[39mimport\u001b[39;00m dense_to_ragged_batch\n\u001b[0;32m     97\u001b[0m \u001b[39mfrom\u001b[39;00m \u001b[39mtensorflow\u001b[39;00m\u001b[39m.\u001b[39;00m\u001b[39mpython\u001b[39;00m\u001b[39m.\u001b[39;00m\u001b[39mdata\u001b[39;00m\u001b[39m.\u001b[39;00m\u001b[39mexperimental\u001b[39;00m\u001b[39m.\u001b[39;00m\u001b[39mops\u001b[39;00m\u001b[39m.\u001b[39;00m\u001b[39mbatching\u001b[39;00m \u001b[39mimport\u001b[39;00m dense_to_sparse_batch\n",
            "File \u001b[1;32mc:\\Users\\anaconda3\\lib\\site-packages\\tensorflow\\python\\data\\experimental\\service\\__init__.py:387\u001b[0m, in \u001b[0;36m<module>\u001b[1;34m\u001b[0m\n\u001b[0;32m      1\u001b[0m \u001b[39m# Copyright 2020 The TensorFlow Authors. All Rights Reserved.\u001b[39;00m\n\u001b[0;32m      2\u001b[0m \u001b[39m#\u001b[39;00m\n\u001b[0;32m      3\u001b[0m \u001b[39m# Licensed under the Apache License, Version 2.0 (the \"License\");\u001b[39;00m\n\u001b[1;32m   (...)\u001b[0m\n\u001b[0;32m     13\u001b[0m \u001b[39m# limitations under the License.\u001b[39;00m\n\u001b[0;32m     14\u001b[0m \u001b[39m# ==============================================================================\u001b[39;00m\n\u001b[0;32m     15\u001b[0m \u001b[39m\"\"\"API for using the tf.data service.\u001b[39;00m\n\u001b[0;32m     16\u001b[0m \n\u001b[0;32m     17\u001b[0m \u001b[39mThis module contains:\u001b[39;00m\n\u001b[1;32m   (...)\u001b[0m\n\u001b[0;32m    384\u001b[0m \u001b[39m  job of ParameterServerStrategy).\u001b[39;00m\n\u001b[0;32m    385\u001b[0m \u001b[39m\"\"\"\u001b[39;00m\n\u001b[1;32m--> 387\u001b[0m \u001b[39mfrom\u001b[39;00m \u001b[39mtensorflow\u001b[39;00m\u001b[39m.\u001b[39;00m\u001b[39mpython\u001b[39;00m\u001b[39m.\u001b[39;00m\u001b[39mdata\u001b[39;00m\u001b[39m.\u001b[39;00m\u001b[39mexperimental\u001b[39;00m\u001b[39m.\u001b[39;00m\u001b[39mops\u001b[39;00m\u001b[39m.\u001b[39;00m\u001b[39mdata_service_ops\u001b[39;00m \u001b[39mimport\u001b[39;00m distribute\n\u001b[0;32m    388\u001b[0m \u001b[39mfrom\u001b[39;00m \u001b[39mtensorflow\u001b[39;00m\u001b[39m.\u001b[39;00m\u001b[39mpython\u001b[39;00m\u001b[39m.\u001b[39;00m\u001b[39mdata\u001b[39;00m\u001b[39m.\u001b[39;00m\u001b[39mexperimental\u001b[39;00m\u001b[39m.\u001b[39;00m\u001b[39mops\u001b[39;00m\u001b[39m.\u001b[39;00m\u001b[39mdata_service_ops\u001b[39;00m \u001b[39mimport\u001b[39;00m from_dataset_id\n\u001b[0;32m    389\u001b[0m \u001b[39mfrom\u001b[39;00m \u001b[39mtensorflow\u001b[39;00m\u001b[39m.\u001b[39;00m\u001b[39mpython\u001b[39;00m\u001b[39m.\u001b[39;00m\u001b[39mdata\u001b[39;00m\u001b[39m.\u001b[39;00m\u001b[39mexperimental\u001b[39;00m\u001b[39m.\u001b[39;00m\u001b[39mops\u001b[39;00m\u001b[39m.\u001b[39;00m\u001b[39mdata_service_ops\u001b[39;00m \u001b[39mimport\u001b[39;00m register_dataset\n",
            "File \u001b[1;32mc:\\Users\\anaconda3\\lib\\site-packages\\tensorflow\\python\\data\\experimental\\ops\\data_service_ops.py:25\u001b[0m, in \u001b[0;36m<module>\u001b[1;34m\u001b[0m\n\u001b[0;32m     23\u001b[0m \u001b[39mfrom\u001b[39;00m \u001b[39mtensorflow\u001b[39;00m\u001b[39m.\u001b[39;00m\u001b[39mpython\u001b[39;00m\u001b[39m.\u001b[39;00m\u001b[39mdata\u001b[39;00m\u001b[39m.\u001b[39;00m\u001b[39mexperimental\u001b[39;00m\u001b[39m.\u001b[39;00m\u001b[39mservice\u001b[39;00m \u001b[39mimport\u001b[39;00m _pywrap_server_lib\n\u001b[0;32m     24\u001b[0m \u001b[39mfrom\u001b[39;00m \u001b[39mtensorflow\u001b[39;00m\u001b[39m.\u001b[39;00m\u001b[39mpython\u001b[39;00m\u001b[39m.\u001b[39;00m\u001b[39mdata\u001b[39;00m\u001b[39m.\u001b[39;00m\u001b[39mexperimental\u001b[39;00m\u001b[39m.\u001b[39;00m\u001b[39mservice\u001b[39;00m \u001b[39mimport\u001b[39;00m _pywrap_utils\n\u001b[1;32m---> 25\u001b[0m \u001b[39mfrom\u001b[39;00m \u001b[39mtensorflow\u001b[39;00m\u001b[39m.\u001b[39;00m\u001b[39mpython\u001b[39;00m\u001b[39m.\u001b[39;00m\u001b[39mdata\u001b[39;00m\u001b[39m.\u001b[39;00m\u001b[39mops\u001b[39;00m \u001b[39mimport\u001b[39;00m dataset_ops\n\u001b[0;32m     26\u001b[0m \u001b[39mfrom\u001b[39;00m \u001b[39mtensorflow\u001b[39;00m\u001b[39m.\u001b[39;00m\u001b[39mpython\u001b[39;00m\u001b[39m.\u001b[39;00m\u001b[39mdata\u001b[39;00m\u001b[39m.\u001b[39;00m\u001b[39mops\u001b[39;00m \u001b[39mimport\u001b[39;00m options \u001b[39mas\u001b[39;00m options_lib\n\u001b[0;32m     27\u001b[0m \u001b[39mfrom\u001b[39;00m \u001b[39mtensorflow\u001b[39;00m\u001b[39m.\u001b[39;00m\u001b[39mpython\u001b[39;00m\u001b[39m.\u001b[39;00m\u001b[39mdata\u001b[39;00m\u001b[39m.\u001b[39;00m\u001b[39mops\u001b[39;00m \u001b[39mimport\u001b[39;00m structured_function\n",
            "File \u001b[1;32mc:\\Users\\anaconda3\\lib\\site-packages\\tensorflow\\python\\data\\ops\\dataset_ops.py:31\u001b[0m, in \u001b[0;36m<module>\u001b[1;34m\u001b[0m\n\u001b[0;32m     29\u001b[0m \u001b[39mfrom\u001b[39;00m \u001b[39mtensorflow\u001b[39;00m\u001b[39m.\u001b[39;00m\u001b[39mcore\u001b[39;00m\u001b[39m.\u001b[39;00m\u001b[39mframework\u001b[39;00m \u001b[39mimport\u001b[39;00m graph_pb2\n\u001b[0;32m     30\u001b[0m \u001b[39mfrom\u001b[39;00m \u001b[39mtensorflow\u001b[39;00m\u001b[39m.\u001b[39;00m\u001b[39mpython\u001b[39;00m \u001b[39mimport\u001b[39;00m tf2\n\u001b[1;32m---> 31\u001b[0m \u001b[39mfrom\u001b[39;00m \u001b[39mtensorflow\u001b[39;00m\u001b[39m.\u001b[39;00m\u001b[39mpython\u001b[39;00m\u001b[39m.\u001b[39;00m\u001b[39mdata\u001b[39;00m\u001b[39m.\u001b[39;00m\u001b[39mops\u001b[39;00m \u001b[39mimport\u001b[39;00m iterator_ops\n\u001b[0;32m     32\u001b[0m \u001b[39mfrom\u001b[39;00m \u001b[39mtensorflow\u001b[39;00m\u001b[39m.\u001b[39;00m\u001b[39mpython\u001b[39;00m\u001b[39m.\u001b[39;00m\u001b[39mdata\u001b[39;00m\u001b[39m.\u001b[39;00m\u001b[39mops\u001b[39;00m \u001b[39mimport\u001b[39;00m options \u001b[39mas\u001b[39;00m options_lib\n\u001b[0;32m     33\u001b[0m \u001b[39mfrom\u001b[39;00m \u001b[39mtensorflow\u001b[39;00m\u001b[39m.\u001b[39;00m\u001b[39mpython\u001b[39;00m\u001b[39m.\u001b[39;00m\u001b[39mdata\u001b[39;00m\u001b[39m.\u001b[39;00m\u001b[39mops\u001b[39;00m \u001b[39mimport\u001b[39;00m structured_function\n",
            "File \u001b[1;32mc:\\Users\\anaconda3\\lib\\site-packages\\tensorflow\\python\\data\\ops\\iterator_ops.py:35\u001b[0m, in \u001b[0;36m<module>\u001b[1;34m\u001b[0m\n\u001b[0;32m     33\u001b[0m \u001b[39mfrom\u001b[39;00m \u001b[39mtensorflow\u001b[39;00m\u001b[39m.\u001b[39;00m\u001b[39mpython\u001b[39;00m\u001b[39m.\u001b[39;00m\u001b[39mframework\u001b[39;00m \u001b[39mimport\u001b[39;00m type_spec\n\u001b[0;32m     34\u001b[0m \u001b[39mfrom\u001b[39;00m \u001b[39mtensorflow\u001b[39;00m\u001b[39m.\u001b[39;00m\u001b[39mpython\u001b[39;00m\u001b[39m.\u001b[39;00m\u001b[39mops\u001b[39;00m \u001b[39mimport\u001b[39;00m gen_dataset_ops\n\u001b[1;32m---> 35\u001b[0m \u001b[39mfrom\u001b[39;00m \u001b[39mtensorflow\u001b[39;00m\u001b[39m.\u001b[39;00m\u001b[39mpython\u001b[39;00m\u001b[39m.\u001b[39;00m\u001b[39mtraining\u001b[39;00m\u001b[39m.\u001b[39;00m\u001b[39msaver\u001b[39;00m \u001b[39mimport\u001b[39;00m BaseSaverBuilder\n\u001b[0;32m     36\u001b[0m \u001b[39mfrom\u001b[39;00m \u001b[39mtensorflow\u001b[39;00m\u001b[39m.\u001b[39;00m\u001b[39mpython\u001b[39;00m\u001b[39m.\u001b[39;00m\u001b[39mtraining\u001b[39;00m\u001b[39m.\u001b[39;00m\u001b[39mtracking\u001b[39;00m \u001b[39mimport\u001b[39;00m base \u001b[39mas\u001b[39;00m trackable\n\u001b[0;32m     37\u001b[0m \u001b[39mfrom\u001b[39;00m \u001b[39mtensorflow\u001b[39;00m\u001b[39m.\u001b[39;00m\u001b[39mpython\u001b[39;00m\u001b[39m.\u001b[39;00m\u001b[39mutil\u001b[39;00m \u001b[39mimport\u001b[39;00m _pywrap_utils\n",
            "File \u001b[1;32mc:\\Users\\anaconda3\\lib\\site-packages\\tensorflow\\python\\training\\saver.py:37\u001b[0m, in \u001b[0;36m<module>\u001b[1;34m\u001b[0m\n\u001b[0;32m     35\u001b[0m \u001b[39mfrom\u001b[39;00m \u001b[39mtensorflow\u001b[39;00m\u001b[39m.\u001b[39;00m\u001b[39mpython\u001b[39;00m\u001b[39m.\u001b[39;00m\u001b[39mframework\u001b[39;00m \u001b[39mimport\u001b[39;00m device \u001b[39mas\u001b[39;00m pydev\n\u001b[0;32m     36\u001b[0m \u001b[39mfrom\u001b[39;00m \u001b[39mtensorflow\u001b[39;00m\u001b[39m.\u001b[39;00m\u001b[39mpython\u001b[39;00m\u001b[39m.\u001b[39;00m\u001b[39mframework\u001b[39;00m \u001b[39mimport\u001b[39;00m errors\n\u001b[1;32m---> 37\u001b[0m \u001b[39mfrom\u001b[39;00m \u001b[39mtensorflow\u001b[39;00m\u001b[39m.\u001b[39;00m\u001b[39mpython\u001b[39;00m\u001b[39m.\u001b[39;00m\u001b[39mframework\u001b[39;00m \u001b[39mimport\u001b[39;00m meta_graph\n\u001b[0;32m     38\u001b[0m \u001b[39mfrom\u001b[39;00m \u001b[39mtensorflow\u001b[39;00m\u001b[39m.\u001b[39;00m\u001b[39mpython\u001b[39;00m\u001b[39m.\u001b[39;00m\u001b[39mframework\u001b[39;00m \u001b[39mimport\u001b[39;00m ops\n\u001b[0;32m     39\u001b[0m \u001b[39mfrom\u001b[39;00m \u001b[39mtensorflow\u001b[39;00m\u001b[39m.\u001b[39;00m\u001b[39mpython\u001b[39;00m\u001b[39m.\u001b[39;00m\u001b[39mops\u001b[39;00m \u001b[39mimport\u001b[39;00m array_ops\n",
            "File \u001b[1;32mc:\\Users\\anaconda3\\lib\\site-packages\\tensorflow\\python\\framework\\meta_graph.py:34\u001b[0m, in \u001b[0;36m<module>\u001b[1;34m\u001b[0m\n\u001b[0;32m     32\u001b[0m \u001b[39mfrom\u001b[39;00m \u001b[39mtensorflow\u001b[39;00m\u001b[39m.\u001b[39;00m\u001b[39mpython\u001b[39;00m\u001b[39m.\u001b[39;00m\u001b[39meager\u001b[39;00m \u001b[39mimport\u001b[39;00m context\n\u001b[0;32m     33\u001b[0m \u001b[39mfrom\u001b[39;00m \u001b[39mtensorflow\u001b[39;00m\u001b[39m.\u001b[39;00m\u001b[39mpython\u001b[39;00m\u001b[39m.\u001b[39;00m\u001b[39mframework\u001b[39;00m \u001b[39mimport\u001b[39;00m error_interpolation\n\u001b[1;32m---> 34\u001b[0m \u001b[39mfrom\u001b[39;00m \u001b[39mtensorflow\u001b[39;00m\u001b[39m.\u001b[39;00m\u001b[39mpython\u001b[39;00m\u001b[39m.\u001b[39;00m\u001b[39mframework\u001b[39;00m \u001b[39mimport\u001b[39;00m graph_io\n\u001b[0;32m     35\u001b[0m \u001b[39mfrom\u001b[39;00m \u001b[39mtensorflow\u001b[39;00m\u001b[39m.\u001b[39;00m\u001b[39mpython\u001b[39;00m\u001b[39m.\u001b[39;00m\u001b[39mframework\u001b[39;00m \u001b[39mimport\u001b[39;00m importer\n\u001b[0;32m     36\u001b[0m \u001b[39mfrom\u001b[39;00m \u001b[39mtensorflow\u001b[39;00m\u001b[39m.\u001b[39;00m\u001b[39mpython\u001b[39;00m\u001b[39m.\u001b[39;00m\u001b[39mframework\u001b[39;00m \u001b[39mimport\u001b[39;00m op_def_registry\n",
            "File \u001b[1;32mc:\\Users\\anaconda3\\lib\\site-packages\\tensorflow\\python\\framework\\graph_io.py:22\u001b[0m, in \u001b[0;36m<module>\u001b[1;34m\u001b[0m\n\u001b[0;32m     20\u001b[0m \u001b[39mfrom\u001b[39;00m \u001b[39mgoogle\u001b[39;00m\u001b[39m.\u001b[39;00m\u001b[39mprotobuf\u001b[39;00m \u001b[39mimport\u001b[39;00m text_format\n\u001b[0;32m     21\u001b[0m \u001b[39mfrom\u001b[39;00m \u001b[39mtensorflow\u001b[39;00m\u001b[39m.\u001b[39;00m\u001b[39mpython\u001b[39;00m\u001b[39m.\u001b[39;00m\u001b[39mframework\u001b[39;00m \u001b[39mimport\u001b[39;00m ops\n\u001b[1;32m---> 22\u001b[0m \u001b[39mfrom\u001b[39;00m \u001b[39mtensorflow\u001b[39;00m\u001b[39m.\u001b[39;00m\u001b[39mpython\u001b[39;00m\u001b[39m.\u001b[39;00m\u001b[39mlib\u001b[39;00m\u001b[39m.\u001b[39;00m\u001b[39mio\u001b[39;00m \u001b[39mimport\u001b[39;00m file_io\n\u001b[0;32m     23\u001b[0m \u001b[39mfrom\u001b[39;00m \u001b[39mtensorflow\u001b[39;00m\u001b[39m.\u001b[39;00m\u001b[39mpython\u001b[39;00m\u001b[39m.\u001b[39;00m\u001b[39mutil\u001b[39;00m\u001b[39m.\u001b[39;00m\u001b[39mtf_export\u001b[39;00m \u001b[39mimport\u001b[39;00m tf_export\n\u001b[0;32m     26\u001b[0m \u001b[39m@tf_export\u001b[39m(\u001b[39m'\u001b[39m\u001b[39mio.write_graph\u001b[39m\u001b[39m'\u001b[39m, v1\u001b[39m=\u001b[39m[\u001b[39m'\u001b[39m\u001b[39mio.write_graph\u001b[39m\u001b[39m'\u001b[39m, \u001b[39m'\u001b[39m\u001b[39mtrain.write_graph\u001b[39m\u001b[39m'\u001b[39m])\n\u001b[0;32m     27\u001b[0m \u001b[39mdef\u001b[39;00m \u001b[39mwrite_graph\u001b[39m(graph_or_graph_def, logdir, name, as_text\u001b[39m=\u001b[39m\u001b[39mTrue\u001b[39;00m):\n",
            "File \u001b[1;32mc:\\Users\\anaconda3\\lib\\site-packages\\tensorflow\\python\\lib\\io\\file_io.py:24\u001b[0m, in \u001b[0;36m<module>\u001b[1;34m\u001b[0m\n\u001b[0;32m     21\u001b[0m \u001b[39mimport\u001b[39;00m \u001b[39msix\u001b[39;00m\n\u001b[0;32m     23\u001b[0m \u001b[39mfrom\u001b[39;00m \u001b[39mtensorflow\u001b[39;00m\u001b[39m.\u001b[39;00m\u001b[39mpython\u001b[39;00m\u001b[39m.\u001b[39;00m\u001b[39mframework\u001b[39;00m \u001b[39mimport\u001b[39;00m errors\n\u001b[1;32m---> 24\u001b[0m \u001b[39mfrom\u001b[39;00m \u001b[39mtensorflow\u001b[39;00m\u001b[39m.\u001b[39;00m\u001b[39mpython\u001b[39;00m\u001b[39m.\u001b[39;00m\u001b[39mlib\u001b[39;00m\u001b[39m.\u001b[39;00m\u001b[39mio\u001b[39;00m \u001b[39mimport\u001b[39;00m _pywrap_file_io\n\u001b[0;32m     25\u001b[0m \u001b[39mfrom\u001b[39;00m \u001b[39mtensorflow\u001b[39;00m\u001b[39m.\u001b[39;00m\u001b[39mpython\u001b[39;00m\u001b[39m.\u001b[39;00m\u001b[39mutil\u001b[39;00m \u001b[39mimport\u001b[39;00m compat\n\u001b[0;32m     26\u001b[0m \u001b[39mfrom\u001b[39;00m \u001b[39mtensorflow\u001b[39;00m\u001b[39m.\u001b[39;00m\u001b[39mpython\u001b[39;00m\u001b[39m.\u001b[39;00m\u001b[39mutil\u001b[39;00m \u001b[39mimport\u001b[39;00m deprecation\n",
            "\u001b[1;31mImportError\u001b[0m: initialization failed"
          ]
        }
      ],
      "source": [
        "import tensorflow as tf\n",
        "ann = tf.keras.models.Sequential()"
      ]
    },
    {
      "cell_type": "code",
      "execution_count": null,
      "metadata": {
        "id": "82sOFQoqbWYw"
      },
      "outputs": [],
      "source": [
        "ann.add(tf.keras.layers.Dense(units=6, activation='relu'))"
      ]
    },
    {
      "cell_type": "code",
      "execution_count": null,
      "metadata": {
        "id": "tA7drt-KblOi"
      },
      "outputs": [],
      "source": [
        "ann.add(tf.keras.layers.Dense(units=6, activation='relu'))"
      ]
    },
    {
      "cell_type": "code",
      "execution_count": null,
      "metadata": {
        "id": "a1Pm2ELcbmPa"
      },
      "outputs": [],
      "source": [
        "ann=ann.add(tf.keras.layers.Dense(units=1))"
      ]
    },
    {
      "cell_type": "code",
      "execution_count": null,
      "metadata": {
        "id": "tlE5WUOrbpEp"
      },
      "outputs": [],
      "source": [
        "ann=ann.compile(optimizer = 'adam', loss = 'mean_squared_error')"
      ]
    },
    {
      "cell_type": "code",
      "execution_count": null,
      "metadata": {},
      "outputs": [],
      "source": [
        "pipea=make_pipeline(ct,ann)"
      ]
    },
    {
      "cell_type": "code",
      "execution_count": null,
      "metadata": {
        "colab": {
          "base_uri": "https://localhost:8080/",
          "height": 311
        },
        "id": "RHOEhEZCckcy",
        "outputId": "2d7cf7ff-e76b-4c5f-916f-7695c366277b"
      },
      "outputs": [],
      "source": [
        "ann.fit(x_train, y_train, batch_size = 32, epochs = 100)"
      ]
    },
    {
      "cell_type": "markdown",
      "metadata": {
        "id": "8PMtTyh1L21i"
      },
      "source": [
        "# pickle"
      ]
    },
    {
      "cell_type": "code",
      "execution_count": null,
      "metadata": {
        "id": "m5TbgpslF-PQ"
      },
      "outputs": [],
      "source": [
        "import pickle\n",
        "pickle.dump(piper,open('dpprod.pkl','wb'))"
      ]
    },
    {
      "cell_type": "code",
      "execution_count": null,
      "metadata": {},
      "outputs": [],
      "source": []
    }
  ],
  "metadata": {
    "colab": {
      "collapsed_sections": [],
      "name": "product1.ipynb",
      "provenance": []
    },
    "kernelspec": {
      "display_name": "Python 3.9.12 64-bit ('anaconda3')",
      "language": "python",
      "name": "python3"
    },
    "language_info": {
      "codemirror_mode": {
        "name": "ipython",
        "version": 3
      },
      "file_extension": ".py",
      "mimetype": "text/x-python",
      "name": "python",
      "nbconvert_exporter": "python",
      "pygments_lexer": "ipython3",
      "version": "3.9.12"
    },
    "vscode": {
      "interpreter": {
        "hash": "935a784c055a7b21e047e8af34b03b2623f1270c39444abb64202b2d0bed73c4"
      }
    }
  },
  "nbformat": 4,
  "nbformat_minor": 0
}
